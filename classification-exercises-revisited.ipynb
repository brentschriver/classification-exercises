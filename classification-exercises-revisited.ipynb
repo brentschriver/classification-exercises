{
 "cells": [
  {
   "cell_type": "code",
   "execution_count": 2,
   "id": "3ed89fc6",
   "metadata": {},
   "outputs": [],
   "source": [
    "import env\n",
    "import pandas as pd\n",
    "from pydataset import data\n",
    "import numpy as np\n",
    "import matplotlib.pyplot as plt\n",
    "from scipy import stats\n",
    "import seaborn as sns\n",
    "import acquire"
   ]
  },
  {
   "cell_type": "code",
   "execution_count": null,
   "id": "a585f613",
   "metadata": {},
   "outputs": [],
   "source": [
    "df_iris = data('iris')"
   ]
  },
  {
   "cell_type": "code",
   "execution_count": null,
   "id": "a090acdb",
   "metadata": {},
   "outputs": [],
   "source": [
    "df_iris.head(3)"
   ]
  },
  {
   "cell_type": "code",
   "execution_count": null,
   "id": "0d4555c2",
   "metadata": {},
   "outputs": [],
   "source": [
    "df_iris.shape"
   ]
  },
  {
   "cell_type": "code",
   "execution_count": null,
   "id": "ee9d7724",
   "metadata": {},
   "outputs": [],
   "source": [
    "df_iris.columns"
   ]
  },
  {
   "cell_type": "code",
   "execution_count": null,
   "id": "41b2a0a6",
   "metadata": {},
   "outputs": [],
   "source": [
    "df_iris.info()"
   ]
  },
  {
   "cell_type": "code",
   "execution_count": null,
   "id": "4f30755f",
   "metadata": {},
   "outputs": [],
   "source": [
    "df_iris.describe().T"
   ]
  },
  {
   "cell_type": "markdown",
   "id": "230e9f90",
   "metadata": {},
   "source": [
    "## Read the Table1_CustDetails table from the Excel_Exercises.xlsx file into a dataframe named df_excel."
   ]
  },
  {
   "cell_type": "code",
   "execution_count": null,
   "id": "5093fcd4",
   "metadata": {},
   "outputs": [],
   "source": [
    "df_excel = pd.read_excel('Excel_Exercises.xlsx')"
   ]
  },
  {
   "cell_type": "markdown",
   "id": "0017f3d3",
   "metadata": {},
   "source": [
    "### * assign the first 100 rows to a new dataframe, df_excel_sample"
   ]
  },
  {
   "cell_type": "code",
   "execution_count": null,
   "id": "51b91346",
   "metadata": {},
   "outputs": [],
   "source": [
    "df_excel_sample = df_excel.head(100)"
   ]
  },
  {
   "cell_type": "markdown",
   "id": "c16c5a0a",
   "metadata": {},
   "source": [
    "### * print the number of rows of your original dataframe"
   ]
  },
  {
   "cell_type": "code",
   "execution_count": null,
   "id": "1ea89071",
   "metadata": {},
   "outputs": [],
   "source": [
    "df_excel.shape[0]"
   ]
  },
  {
   "cell_type": "markdown",
   "id": "b0fc4838",
   "metadata": {},
   "source": [
    "### * print the first 5 column names"
   ]
  },
  {
   "cell_type": "code",
   "execution_count": null,
   "id": "78e922a9",
   "metadata": {},
   "outputs": [],
   "source": [
    "df_excel.columns[:5]"
   ]
  },
  {
   "cell_type": "markdown",
   "id": "53aec73c",
   "metadata": {},
   "source": [
    "### * print the column names that have a data type of object\n"
   ]
  },
  {
   "cell_type": "code",
   "execution_count": null,
   "id": "ff554da4",
   "metadata": {},
   "outputs": [],
   "source": [
    "df_excel.select_dtypes(include='object').columns"
   ]
  },
  {
   "cell_type": "markdown",
   "id": "d7c79d5d",
   "metadata": {},
   "source": [
    "### * compute the range for each of the numeric variables.\n"
   ]
  },
  {
   "cell_type": "code",
   "execution_count": null,
   "id": "1acbe5a2",
   "metadata": {},
   "outputs": [],
   "source": [
    "df_excel.info()"
   ]
  },
  {
   "cell_type": "code",
   "execution_count": null,
   "id": "d25ed2b2",
   "metadata": {},
   "outputs": [],
   "source": [
    "numbers = df_excel.select_dtypes(exclude='object').columns"
   ]
  },
  {
   "cell_type": "code",
   "execution_count": null,
   "id": "e6ee1d23",
   "metadata": {},
   "outputs": [],
   "source": [
    "numbers"
   ]
  },
  {
   "cell_type": "code",
   "execution_count": null,
   "id": "3146b905",
   "metadata": {},
   "outputs": [],
   "source": [
    "for number in numbers:\n",
    "    print(df_excel[number].max() - df_excel[number].min())"
   ]
  },
  {
   "cell_type": "markdown",
   "id": "04f26437",
   "metadata": {},
   "source": [
    "## Read the data from this google sheet into a dataframe, df_google"
   ]
  },
  {
   "cell_type": "code",
   "execution_count": null,
   "id": "0ea9acb2",
   "metadata": {},
   "outputs": [],
   "source": [
    "sheet_url = 'https://docs.google.com/spreadsheets/d/1Uhtml8KY19LILuZsrDtlsHHDC9wuDGUSe8LTEwvdI5g/edit#gid=341089357'\n",
    "\n",
    "csv_export_url = sheet_url.replace('/edit#gid=', '/export?format=csv&gid=')\n",
    "\n",
    "df_google = pd.read_csv(csv_export_url)"
   ]
  },
  {
   "cell_type": "markdown",
   "id": "cdaca954",
   "metadata": {},
   "source": [
    "### * print the first 3 rows\n"
   ]
  },
  {
   "cell_type": "code",
   "execution_count": null,
   "id": "77dd5fdf",
   "metadata": {},
   "outputs": [],
   "source": [
    "df_google.head(3)"
   ]
  },
  {
   "cell_type": "markdown",
   "id": "142b5c9f",
   "metadata": {},
   "source": [
    "### * print the number of rows and columns\n"
   ]
  },
  {
   "cell_type": "code",
   "execution_count": null,
   "id": "6e2bbfd4",
   "metadata": {},
   "outputs": [],
   "source": [
    "df_google.shape"
   ]
  },
  {
   "cell_type": "markdown",
   "id": "edc6a8df",
   "metadata": {},
   "source": [
    "### * print the column names\n"
   ]
  },
  {
   "cell_type": "code",
   "execution_count": null,
   "id": "94d655c8",
   "metadata": {},
   "outputs": [],
   "source": [
    "df_google.columns"
   ]
  },
  {
   "cell_type": "markdown",
   "id": "3deaf67b",
   "metadata": {},
   "source": [
    "### * print the data type of each column\n"
   ]
  },
  {
   "cell_type": "code",
   "execution_count": null,
   "id": "d596abca",
   "metadata": {},
   "outputs": [],
   "source": [
    "df_google.info()"
   ]
  },
  {
   "cell_type": "markdown",
   "id": "45867483",
   "metadata": {},
   "source": [
    "### * print the summary statistics for each of the numeric variables\n"
   ]
  },
  {
   "cell_type": "code",
   "execution_count": null,
   "id": "e4f0311c",
   "metadata": {},
   "outputs": [],
   "source": [
    "df_google.describe().T"
   ]
  },
  {
   "cell_type": "markdown",
   "id": "b41efdc2",
   "metadata": {},
   "source": [
    "### * print the unique values for each of your categorical variables\n"
   ]
  },
  {
   "cell_type": "code",
   "execution_count": null,
   "id": "02dd50f4",
   "metadata": {},
   "outputs": [],
   "source": [
    "df_google.select_dtypes(include='object').columns"
   ]
  },
  {
   "cell_type": "code",
   "execution_count": null,
   "id": "972863fb",
   "metadata": {},
   "outputs": [],
   "source": [
    "for values in df_google.select_dtypes(include='object').columns:\n",
    "    print(df_google[values].value_counts())"
   ]
  },
  {
   "cell_type": "markdown",
   "id": "42c6dbf6",
   "metadata": {},
   "source": [
    "# Data Preparation\n",
    "\n",
    "#### Using the Iris Data:\n",
    "\n",
    "#### Use the function defined in acquire.py to load the iris data."
   ]
  },
  {
   "cell_type": "code",
   "execution_count": null,
   "id": "5e381c12",
   "metadata": {},
   "outputs": [],
   "source": [
    "iris_df = acquire.get_iris_data()"
   ]
  },
  {
   "cell_type": "code",
   "execution_count": null,
   "id": "a354d477",
   "metadata": {},
   "outputs": [],
   "source": [
    "iris_df"
   ]
  },
  {
   "cell_type": "markdown",
   "id": "3e9fd8b7",
   "metadata": {},
   "source": [
    "#### Drop the species_id and measurement_id columns."
   ]
  },
  {
   "cell_type": "code",
   "execution_count": null,
   "id": "ddab6452",
   "metadata": {},
   "outputs": [],
   "source": [
    "iris_df.drop(columns='species_id', inplace=True)"
   ]
  },
  {
   "cell_type": "markdown",
   "id": "bce5f4a0",
   "metadata": {},
   "source": [
    "#### Rename the species_name column to just species.\n",
    "\n"
   ]
  },
  {
   "cell_type": "code",
   "execution_count": null,
   "id": "7575f88d",
   "metadata": {},
   "outputs": [],
   "source": [
    "iris_df.rename(columns={'species_name':'species'}, inplace=True)"
   ]
  },
  {
   "cell_type": "markdown",
   "id": "2dd1ef86",
   "metadata": {},
   "source": [
    "#### Create dummy variables of the species name and concatenate onto the iris dataframe. (This is for practice, we don't always have to encode the target, but if we used species as a feature, we would need to encode it).\n",
    "\n"
   ]
  },
  {
   "cell_type": "code",
   "execution_count": null,
   "id": "17f7ce6e",
   "metadata": {},
   "outputs": [],
   "source": [
    "dummy_df = pd.get_dummies(iris_df['species'], drop_first=True)\n",
    "dummy_df.head()"
   ]
  },
  {
   "cell_type": "code",
   "execution_count": null,
   "id": "701617f8",
   "metadata": {},
   "outputs": [],
   "source": [
    "pd.concat([iris_df, dummy_df], axis=1)"
   ]
  },
  {
   "cell_type": "markdown",
   "id": "af5f3008",
   "metadata": {},
   "source": [
    "#### Create a function named prep_iris that accepts the untransformed iris data, and returns the data with the transformations above applied.\n",
    "\n"
   ]
  },
  {
   "cell_type": "code",
   "execution_count": null,
   "id": "c9c6404f",
   "metadata": {},
   "outputs": [],
   "source": [
    "def prep_iris(df):\n",
    "    iris_df.drop(columns='species_id', inplace=True)\n",
    "    iris_df.rename(columns={'species_name':'species'}, inplace=True)\n",
    "    dummy_df = pd.get_dummies(iris_df['species'], drop_first=True)\n",
    "    df = pd.concat([iris_df, dummy_df], axis=1)\n",
    "    return df"
   ]
  },
  {
   "cell_type": "markdown",
   "id": "a8930998",
   "metadata": {},
   "source": [
    "## Using the Titanic dataset\n",
    "#### Use the function defined in acquire.py to load the Titanic data."
   ]
  },
  {
   "cell_type": "code",
   "execution_count": 4,
   "id": "4ee134b3",
   "metadata": {},
   "outputs": [],
   "source": [
    "titanic = acquire.get_titanic_data()"
   ]
  },
  {
   "cell_type": "markdown",
   "id": "ac3ae39f",
   "metadata": {},
   "source": [
    "#### Drop any unnecessary, unhelpful, or duplicated columns."
   ]
  },
  {
   "cell_type": "code",
   "execution_count": 5,
   "id": "9611de71",
   "metadata": {},
   "outputs": [
    {
     "name": "stdout",
     "output_type": "stream",
     "text": [
      "<class 'pandas.core.frame.DataFrame'>\n",
      "Int64Index: 891 entries, 0 to 890\n",
      "Data columns (total 13 columns):\n",
      " #   Column        Non-Null Count  Dtype  \n",
      "---  ------        --------------  -----  \n",
      " 0   passenger_id  891 non-null    int64  \n",
      " 1   survived      891 non-null    int64  \n",
      " 2   pclass        891 non-null    int64  \n",
      " 3   sex           891 non-null    object \n",
      " 4   age           714 non-null    float64\n",
      " 5   sibsp         891 non-null    int64  \n",
      " 6   parch         891 non-null    int64  \n",
      " 7   fare          891 non-null    float64\n",
      " 8   embarked      889 non-null    object \n",
      " 9   class         891 non-null    object \n",
      " 10  deck          203 non-null    object \n",
      " 11  embark_town   889 non-null    object \n",
      " 12  alone         891 non-null    int64  \n",
      "dtypes: float64(2), int64(6), object(5)\n",
      "memory usage: 97.5+ KB\n"
     ]
    }
   ],
   "source": [
    "titanic.info()"
   ]
  },
  {
   "cell_type": "code",
   "execution_count": null,
   "id": "c6388226",
   "metadata": {},
   "outputs": [],
   "source": [
    "columns_to_drop = ['age', 'deck', 'parch', 'embarked']"
   ]
  },
  {
   "cell_type": "code",
   "execution_count": null,
   "id": "dd6cfce7",
   "metadata": {},
   "outputs": [],
   "source": [
    "titanic.drop(columns_to_drop, inplace=True, axis=1)"
   ]
  },
  {
   "cell_type": "code",
   "execution_count": null,
   "id": "d0eefdfc",
   "metadata": {},
   "outputs": [],
   "source": [
    "titanic.drop(columns=['parch','embarked'], inplace=True)"
   ]
  },
  {
   "cell_type": "code",
   "execution_count": null,
   "id": "eb2893f0",
   "metadata": {},
   "outputs": [],
   "source": [
    "titanic.info()"
   ]
  },
  {
   "cell_type": "markdown",
   "id": "aed23f4a",
   "metadata": {},
   "source": [
    "#### Encode the categorical columns. Create dummy variables of the categorical columns and concatenate them onto the dataframe.\n",
    "\n"
   ]
  },
  {
   "cell_type": "code",
   "execution_count": null,
   "id": "7172c500",
   "metadata": {},
   "outputs": [],
   "source": [
    "categorical_columns = titanic.select_dtypes(include='object').columns"
   ]
  },
  {
   "cell_type": "code",
   "execution_count": null,
   "id": "c7fbead9",
   "metadata": {},
   "outputs": [],
   "source": [
    "dummy_df = pd.get_dummies(titanic[categorical_columns], drop_first=True)"
   ]
  },
  {
   "cell_type": "code",
   "execution_count": null,
   "id": "8c8e85d5",
   "metadata": {},
   "outputs": [],
   "source": [
    "dummy_df"
   ]
  },
  {
   "cell_type": "code",
   "execution_count": null,
   "id": "6fb3cb73",
   "metadata": {},
   "outputs": [],
   "source": [
    "titanic = pd.concat([titanic, dummy_df], axis=1)"
   ]
  },
  {
   "cell_type": "code",
   "execution_count": null,
   "id": "7f0342d8",
   "metadata": {},
   "outputs": [],
   "source": [
    "titanic"
   ]
  },
  {
   "cell_type": "markdown",
   "id": "fe83384e",
   "metadata": {},
   "source": [
    "#### Create a function named prep_titanic that accepts the raw titanic data, and returns the data with the transformations above applied."
   ]
  },
  {
   "cell_type": "code",
   "execution_count": 6,
   "id": "3c092919",
   "metadata": {},
   "outputs": [],
   "source": [
    "def prep_titanic(df):\n",
    "    columns_to_drop = ['age', 'deck', 'parch', 'embarked']\n",
    "    df.drop(columns_to_drop, inplace=True, axis=1)\n",
    "    categorical_columns = df.select_dtypes(include='object').columns\n",
    "    dummy_df = pd.get_dummies(df[categorical_columns], drop_first=True)\n",
    "    titanic = pd.concat([df, dummy_df], axis=1)\n",
    "    return titanic"
   ]
  },
  {
   "cell_type": "markdown",
   "id": "45d2aa7a",
   "metadata": {},
   "source": [
    "## Using the Telco dataset\n",
    "\n",
    "#### * Use the function defined in acquire.py to load the Telco data."
   ]
  },
  {
   "cell_type": "code",
   "execution_count": null,
   "id": "bcbb9204",
   "metadata": {},
   "outputs": [],
   "source": []
  }
 ],
 "metadata": {
  "kernelspec": {
   "display_name": "Python 3 (ipykernel)",
   "language": "python",
   "name": "python3"
  },
  "language_info": {
   "codemirror_mode": {
    "name": "ipython",
    "version": 3
   },
   "file_extension": ".py",
   "mimetype": "text/x-python",
   "name": "python",
   "nbconvert_exporter": "python",
   "pygments_lexer": "ipython3",
   "version": "3.8.8"
  }
 },
 "nbformat": 4,
 "nbformat_minor": 5
}
