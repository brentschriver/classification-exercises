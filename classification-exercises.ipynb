{
 "cells": [
  {
   "cell_type": "code",
   "execution_count": 1,
   "id": "c6c708d2",
   "metadata": {},
   "outputs": [],
   "source": [
    "import env\n",
    "import pandas as pd\n",
    "import pydataset as data\n",
    "import numpy as np\n",
    "import matplotlib.pyplot as plt\n",
    "from scipy import stats\n",
    "import seaborn as sns"
   ]
  },
  {
   "cell_type": "markdown",
   "id": "b561354b",
   "metadata": {},
   "source": [
    "### 4. In a jupyter notebook, classification_exercises.ipynb, use a python module (pydata or seaborn datasets) containing datasets as a source from the iris data. Create a pandas dataframe, df_iris, from this data."
   ]
  },
  {
   "cell_type": "code",
   "execution_count": null,
   "id": "88f16528",
   "metadata": {},
   "outputs": [],
   "source": [
    "df_iris = sns.load_dataset('iris')\n",
    "type(df_iris)"
   ]
  },
  {
   "cell_type": "markdown",
   "id": "cbda90cf",
   "metadata": {},
   "source": [
    "#### Print the first three rows."
   ]
  },
  {
   "cell_type": "code",
   "execution_count": null,
   "id": "c49a5bac",
   "metadata": {},
   "outputs": [],
   "source": [
    "df_iris.head(3)"
   ]
  },
  {
   "cell_type": "markdown",
   "id": "35780c7d",
   "metadata": {},
   "source": [
    "#### Print the number of rows and columns (shape)"
   ]
  },
  {
   "cell_type": "code",
   "execution_count": null,
   "id": "515fba44",
   "metadata": {},
   "outputs": [],
   "source": [
    "df_iris.shape"
   ]
  },
  {
   "cell_type": "markdown",
   "id": "78dc8fd2",
   "metadata": {},
   "source": [
    "#### Print the column names"
   ]
  },
  {
   "cell_type": "code",
   "execution_count": null,
   "id": "158b4b3d",
   "metadata": {},
   "outputs": [],
   "source": [
    "df_iris.columns"
   ]
  },
  {
   "cell_type": "markdown",
   "id": "4b91ab9d",
   "metadata": {},
   "source": [
    "#### Print the data type of each column"
   ]
  },
  {
   "cell_type": "code",
   "execution_count": null,
   "id": "d660551d",
   "metadata": {},
   "outputs": [],
   "source": [
    "df_iris.dtypes"
   ]
  },
  {
   "cell_type": "markdown",
   "id": "b537435b",
   "metadata": {},
   "source": [
    "#### Print the summary statistics for each of the numeric variables. Would you recommend rescaling the data based on these statistics?"
   ]
  },
  {
   "cell_type": "code",
   "execution_count": null,
   "id": "3ceec2da",
   "metadata": {},
   "outputs": [],
   "source": [
    "df_iris.describe()"
   ]
  },
  {
   "cell_type": "markdown",
   "id": "d66286bb",
   "metadata": {},
   "source": [
    "### 5. Read the Table1_CustDetails table from the Excel_Exercises.xlsx file into a dataframe named df_excel."
   ]
  },
  {
   "cell_type": "code",
   "execution_count": 2,
   "id": "2931f268",
   "metadata": {},
   "outputs": [],
   "source": [
    "df_excel = pd.read_excel('Excel_Exercises.xlsx')"
   ]
  },
  {
   "cell_type": "code",
   "execution_count": null,
   "id": "fe08cca5",
   "metadata": {},
   "outputs": [],
   "source": [
    "type(df_excel)"
   ]
  },
  {
   "cell_type": "markdown",
   "id": "c93b310f",
   "metadata": {},
   "source": [
    "#### Assign the first 100 rows to a new dataframe, df_excel_sample"
   ]
  },
  {
   "cell_type": "code",
   "execution_count": null,
   "id": "6dfe2127",
   "metadata": {},
   "outputs": [],
   "source": [
    "df_excel_sample = df_excel.head(100)"
   ]
  },
  {
   "cell_type": "markdown",
   "id": "475c9ca0",
   "metadata": {},
   "source": [
    "#### Print the number of rows of your original dataframe"
   ]
  },
  {
   "cell_type": "code",
   "execution_count": null,
   "id": "0cb73304",
   "metadata": {},
   "outputs": [],
   "source": [
    "len(df_excel)"
   ]
  },
  {
   "cell_type": "markdown",
   "id": "1bd2e49f",
   "metadata": {},
   "source": [
    "#### Print the first 5 column names"
   ]
  },
  {
   "cell_type": "code",
   "execution_count": null,
   "id": "bd32427b",
   "metadata": {},
   "outputs": [],
   "source": [
    "df_excel.columns[:5]"
   ]
  },
  {
   "cell_type": "markdown",
   "id": "f2cd2fa7",
   "metadata": {},
   "source": [
    "#### Print the column names that have a data type of object"
   ]
  },
  {
   "cell_type": "code",
   "execution_count": null,
   "id": "a426a0f1",
   "metadata": {},
   "outputs": [],
   "source": [
    "df_excel.dtypes"
   ]
  },
  {
   "cell_type": "code",
   "execution_count": null,
   "id": "b6d8f084",
   "metadata": {},
   "outputs": [],
   "source": [
    "df_excel.select_dtypes(include='object').columns"
   ]
  },
  {
   "cell_type": "markdown",
   "id": "4817263d",
   "metadata": {},
   "source": [
    "#### Compute the range for each of the numeric variables."
   ]
  },
  {
   "cell_type": "code",
   "execution_count": 3,
   "id": "e03a65f2",
   "metadata": {},
   "outputs": [],
   "source": [
    "range = df_excel.select_dtypes(exclude='object').max() - df_excel.select_dtypes(exclude='object').min()"
   ]
  },
  {
   "cell_type": "code",
   "execution_count": 4,
   "id": "b4826d52",
   "metadata": {},
   "outputs": [
    {
     "data": {
      "text/plain": [
       "is_senior_citizen       1.0\n",
       "phone_service           2.0\n",
       "internet_service        2.0\n",
       "contract_type           2.0\n",
       "monthly_charges       100.5\n",
       "total_charges        8666.0\n",
       "Unnamed: 12             NaN\n",
       "Unnamed: 13             NaN\n",
       "dtype: float64"
      ]
     },
     "execution_count": 4,
     "metadata": {},
     "output_type": "execute_result"
    }
   ],
   "source": [
    "range"
   ]
  },
  {
   "cell_type": "markdown",
   "id": "29cfab8f",
   "metadata": {},
   "source": [
    "### 6. Read the data from this google sheet into a dataframe, df_google"
   ]
  },
  {
   "cell_type": "markdown",
   "id": "ae2322a6",
   "metadata": {},
   "source": []
  },
  {
   "cell_type": "code",
   "execution_count": 5,
   "id": "c364013e",
   "metadata": {},
   "outputs": [],
   "source": [
    "sheet_url = 'https://docs.google.com/spreadsheets/d/1Uhtml8KY19LILuZsrDtlsHHDC9wuDGUSe8LTEwvdI5g/edit#gid=341089357'\n",
    "\n",
    "csv_export_url = sheet_url.replace('/edit#gid=', '/export?format=csv&gid=')\n",
    "\n",
    "df_google = pd.read_csv(csv_export_url)"
   ]
  },
  {
   "cell_type": "markdown",
   "id": "230de3ab",
   "metadata": {},
   "source": [
    "#### Print the first 3 rows"
   ]
  },
  {
   "cell_type": "code",
   "execution_count": null,
   "id": "10f75bb4",
   "metadata": {},
   "outputs": [],
   "source": [
    "df_google.head(3)"
   ]
  },
  {
   "cell_type": "markdown",
   "id": "8bb38b9a",
   "metadata": {},
   "source": [
    "#### Print the number of rows and columns"
   ]
  },
  {
   "cell_type": "code",
   "execution_count": null,
   "id": "4c673f52",
   "metadata": {},
   "outputs": [],
   "source": [
    "df_google.shape"
   ]
  },
  {
   "cell_type": "markdown",
   "id": "5a3cd8ea",
   "metadata": {},
   "source": [
    "#### Print the column names"
   ]
  },
  {
   "cell_type": "code",
   "execution_count": null,
   "id": "34ee3fe8",
   "metadata": {},
   "outputs": [],
   "source": [
    "df_google.columns"
   ]
  },
  {
   "cell_type": "markdown",
   "id": "a5035a8c",
   "metadata": {},
   "source": [
    "#### Print the data type of each column"
   ]
  },
  {
   "cell_type": "code",
   "execution_count": null,
   "id": "2354a9d8",
   "metadata": {},
   "outputs": [],
   "source": [
    "df_google.dtypes"
   ]
  },
  {
   "cell_type": "markdown",
   "id": "498d4373",
   "metadata": {},
   "source": [
    "#### Print the summary statistics for each of the numeric variables"
   ]
  },
  {
   "cell_type": "code",
   "execution_count": null,
   "id": "c0149e0f",
   "metadata": {},
   "outputs": [],
   "source": [
    "df_google.describe()"
   ]
  },
  {
   "cell_type": "markdown",
   "id": "859bf6a2",
   "metadata": {},
   "source": [
    "#### Print the unique values for each of your categorical variables"
   ]
  },
  {
   "cell_type": "code",
   "execution_count": 6,
   "id": "9a164406",
   "metadata": {},
   "outputs": [
    {
     "data": {
      "text/html": [
       "<div>\n",
       "<style scoped>\n",
       "    .dataframe tbody tr th:only-of-type {\n",
       "        vertical-align: middle;\n",
       "    }\n",
       "\n",
       "    .dataframe tbody tr th {\n",
       "        vertical-align: top;\n",
       "    }\n",
       "\n",
       "    .dataframe thead th {\n",
       "        text-align: right;\n",
       "    }\n",
       "</style>\n",
       "<table border=\"1\" class=\"dataframe\">\n",
       "  <thead>\n",
       "    <tr style=\"text-align: right;\">\n",
       "      <th></th>\n",
       "      <th>Name</th>\n",
       "      <th>Sex</th>\n",
       "      <th>Ticket</th>\n",
       "      <th>Cabin</th>\n",
       "      <th>Embarked</th>\n",
       "    </tr>\n",
       "  </thead>\n",
       "  <tbody>\n",
       "    <tr>\n",
       "      <th>0</th>\n",
       "      <td>Braund, Mr. Owen Harris</td>\n",
       "      <td>male</td>\n",
       "      <td>A/5 21171</td>\n",
       "      <td>NaN</td>\n",
       "      <td>S</td>\n",
       "    </tr>\n",
       "    <tr>\n",
       "      <th>1</th>\n",
       "      <td>Cumings, Mrs. John Bradley (Florence Briggs Thayer)</td>\n",
       "      <td>female</td>\n",
       "      <td>PC 17599</td>\n",
       "      <td>C85</td>\n",
       "      <td>C</td>\n",
       "    </tr>\n",
       "    <tr>\n",
       "      <th>2</th>\n",
       "      <td>Heikkinen, Miss. Laina</td>\n",
       "      <td>female</td>\n",
       "      <td>STON/O2. 3101282</td>\n",
       "      <td>NaN</td>\n",
       "      <td>S</td>\n",
       "    </tr>\n",
       "    <tr>\n",
       "      <th>3</th>\n",
       "      <td>Futrelle, Mrs. Jacques Heath (Lily May Peel)</td>\n",
       "      <td>female</td>\n",
       "      <td>113803</td>\n",
       "      <td>C123</td>\n",
       "      <td>S</td>\n",
       "    </tr>\n",
       "    <tr>\n",
       "      <th>4</th>\n",
       "      <td>Allen, Mr. William Henry</td>\n",
       "      <td>male</td>\n",
       "      <td>373450</td>\n",
       "      <td>NaN</td>\n",
       "      <td>S</td>\n",
       "    </tr>\n",
       "    <tr>\n",
       "      <th>...</th>\n",
       "      <td>...</td>\n",
       "      <td>...</td>\n",
       "      <td>...</td>\n",
       "      <td>...</td>\n",
       "      <td>...</td>\n",
       "    </tr>\n",
       "    <tr>\n",
       "      <th>886</th>\n",
       "      <td>Montvila, Rev. Juozas</td>\n",
       "      <td>male</td>\n",
       "      <td>211536</td>\n",
       "      <td>NaN</td>\n",
       "      <td>S</td>\n",
       "    </tr>\n",
       "    <tr>\n",
       "      <th>887</th>\n",
       "      <td>Graham, Miss. Margaret Edith</td>\n",
       "      <td>female</td>\n",
       "      <td>112053</td>\n",
       "      <td>B42</td>\n",
       "      <td>S</td>\n",
       "    </tr>\n",
       "    <tr>\n",
       "      <th>888</th>\n",
       "      <td>Johnston, Miss. Catherine Helen \"Carrie\"</td>\n",
       "      <td>female</td>\n",
       "      <td>W./C. 6607</td>\n",
       "      <td>NaN</td>\n",
       "      <td>S</td>\n",
       "    </tr>\n",
       "    <tr>\n",
       "      <th>889</th>\n",
       "      <td>Behr, Mr. Karl Howell</td>\n",
       "      <td>male</td>\n",
       "      <td>111369</td>\n",
       "      <td>C148</td>\n",
       "      <td>C</td>\n",
       "    </tr>\n",
       "    <tr>\n",
       "      <th>890</th>\n",
       "      <td>Dooley, Mr. Patrick</td>\n",
       "      <td>male</td>\n",
       "      <td>370376</td>\n",
       "      <td>NaN</td>\n",
       "      <td>Q</td>\n",
       "    </tr>\n",
       "  </tbody>\n",
       "</table>\n",
       "<p>891 rows × 5 columns</p>\n",
       "</div>"
      ],
      "text/plain": [
       "                                                    Name     Sex  \\\n",
       "0                                Braund, Mr. Owen Harris    male   \n",
       "1    Cumings, Mrs. John Bradley (Florence Briggs Thayer)  female   \n",
       "2                                 Heikkinen, Miss. Laina  female   \n",
       "3           Futrelle, Mrs. Jacques Heath (Lily May Peel)  female   \n",
       "4                               Allen, Mr. William Henry    male   \n",
       "..                                                   ...     ...   \n",
       "886                                Montvila, Rev. Juozas    male   \n",
       "887                         Graham, Miss. Margaret Edith  female   \n",
       "888             Johnston, Miss. Catherine Helen \"Carrie\"  female   \n",
       "889                                Behr, Mr. Karl Howell    male   \n",
       "890                                  Dooley, Mr. Patrick    male   \n",
       "\n",
       "               Ticket Cabin Embarked  \n",
       "0           A/5 21171   NaN        S  \n",
       "1            PC 17599   C85        C  \n",
       "2    STON/O2. 3101282   NaN        S  \n",
       "3              113803  C123        S  \n",
       "4              373450   NaN        S  \n",
       "..                ...   ...      ...  \n",
       "886            211536   NaN        S  \n",
       "887            112053   B42        S  \n",
       "888        W./C. 6607   NaN        S  \n",
       "889            111369  C148        C  \n",
       "890            370376   NaN        Q  \n",
       "\n",
       "[891 rows x 5 columns]"
      ]
     },
     "execution_count": 6,
     "metadata": {},
     "output_type": "execute_result"
    }
   ],
   "source": [
    "df_google_objects = df_google.select_dtypes(include='object')\n",
    "df_google_objects"
   ]
  },
  {
   "cell_type": "code",
   "execution_count": 7,
   "id": "219f4770",
   "metadata": {},
   "outputs": [
    {
     "name": "stdout",
     "output_type": "stream",
     "text": [
      "Name has 891 unique values.\n",
      "Sex has 2 unique values.\n",
      "Ticket has 681 unique values.\n",
      "Cabin has 147 unique values.\n",
      "Embarked has 3 unique values.\n"
     ]
    }
   ],
   "source": [
    "for col in df_google_objects.columns:\n",
    "    if df_google_objects[col].dtypes == 'object':\n",
    "        print(f'{col} has {df_google_objects[col].nunique()} unique values.')"
   ]
  },
  {
   "cell_type": "code",
   "execution_count": 71,
   "id": "71d4b7e9",
   "metadata": {},
   "outputs": [],
   "source": [
    "import pandas as pd\n",
    "import numpy as np\n",
    "import matplotlib.pyplot as plt\n",
    "\n",
    "# import splitting and imputing functions\n",
    "from sklearn.model_selection import train_test_split\n",
    "from sklearn.impute import SimpleImputer\n",
    "\n",
    "# turn off pink boxes for demo\n",
    "import warnings\n",
    "warnings.filterwarnings(\"ignore\")\n",
    "\n",
    "# import our own acquire module\n",
    "import acquire\n",
    "\n",
    "import env\n",
    "\n",
    "from scipy import stats\n",
    "import seaborn as sns"
   ]
  },
  {
   "cell_type": "markdown",
   "id": "09c0d5db",
   "metadata": {},
   "source": [
    "## Data Prep Exercises"
   ]
  },
  {
   "cell_type": "markdown",
   "id": "2ae6bce0",
   "metadata": {},
   "source": [
    "### Using the Iris Data:\n",
    "\n",
    "#### 1. Use the function defined in acquire.py to load the iris data.\n",
    "#### 2. Drop the species_id and measurement_id columns.\n",
    "#### 3. Rename the species_name column to just species.\n",
    "#### 4. Create dummy variables of the species name and concatenate onto the iris dataframe.\n",
    "#### 5. Create a function named prep_iris that accepts the untransformed iris data, and returns the data with the transformations above applied.\n",
    "___________________________________________________________________________________________________\n",
    "- - - - - - - -"
   ]
  },
  {
   "cell_type": "markdown",
   "id": "80052246",
   "metadata": {},
   "source": [
    "#### 1. Use the function defined in acquire.py to load the iris data."
   ]
  },
  {
   "cell_type": "code",
   "execution_count": null,
   "id": "4d520a18",
   "metadata": {},
   "outputs": [],
   "source": [
    "iris_df = acquire.get_iris_data()"
   ]
  },
  {
   "cell_type": "code",
   "execution_count": null,
   "id": "ad5034a2",
   "metadata": {},
   "outputs": [],
   "source": [
    "iris_df.info()"
   ]
  },
  {
   "cell_type": "markdown",
   "id": "049328f9",
   "metadata": {},
   "source": [
    "#### 2. Drop the species_id and measurement_id columns"
   ]
  },
  {
   "cell_type": "code",
   "execution_count": null,
   "id": "5d718e09",
   "metadata": {},
   "outputs": [],
   "source": [
    "\n",
    "# Drop columns with too many missing values for now and reassign; check the shape of my data.\n",
    "cols_to_drop = ['species_id']\n",
    "iris_df = iris_df.drop(columns=cols_to_drop)\n"
   ]
  },
  {
   "cell_type": "code",
   "execution_count": null,
   "id": "90ac0a52",
   "metadata": {},
   "outputs": [],
   "source": [
    "iris_df.shape"
   ]
  },
  {
   "cell_type": "code",
   "execution_count": null,
   "id": "4a3de2b1",
   "metadata": {},
   "outputs": [],
   "source": [
    "iris_df.head()"
   ]
  },
  {
   "cell_type": "markdown",
   "id": "2f414f22",
   "metadata": {},
   "source": [
    "#### 3. Rename the species_name column to just species."
   ]
  },
  {
   "cell_type": "code",
   "execution_count": null,
   "id": "dfab4d48",
   "metadata": {},
   "outputs": [],
   "source": [
    "iris_df.rename(columns={'species_name': 'species'}, inplace=True)"
   ]
  },
  {
   "cell_type": "code",
   "execution_count": null,
   "id": "3c11fd51",
   "metadata": {},
   "outputs": [],
   "source": [
    "iris_df.head()"
   ]
  },
  {
   "cell_type": "markdown",
   "id": "81cab56e",
   "metadata": {},
   "source": [
    "#### 4. Create dummy variables of the species name and concatenate onto the iris dataframe.\n",
    "\n"
   ]
  },
  {
   "cell_type": "code",
   "execution_count": null,
   "id": "812ebc41",
   "metadata": {},
   "outputs": [],
   "source": [
    "dummy_species = pd.get_dummies(iris_df['species'], dummy_na=False, drop_first=[True, True])"
   ]
  },
  {
   "cell_type": "code",
   "execution_count": null,
   "id": "29c1bd9b",
   "metadata": {},
   "outputs": [],
   "source": [
    "dummy_species"
   ]
  },
  {
   "cell_type": "code",
   "execution_count": null,
   "id": "4d02dece",
   "metadata": {},
   "outputs": [],
   "source": [
    "iris_df = pd.concat([iris_df, dummy_species], axis=1)"
   ]
  },
  {
   "cell_type": "code",
   "execution_count": null,
   "id": "e9079661",
   "metadata": {},
   "outputs": [],
   "source": [
    "iris_df.head()"
   ]
  },
  {
   "cell_type": "markdown",
   "id": "99669e03",
   "metadata": {},
   "source": [
    "#### 5. Create a function named prep_iris that accepts the untransformed iris data, and returns the data with the transformations above applied."
   ]
  },
  {
   "cell_type": "code",
   "execution_count": null,
   "id": "080ab9e3",
   "metadata": {},
   "outputs": [],
   "source": [
    "def prep_iris(df):\n",
    "    cols_to_drop = ['species_id']\n",
    "    iris_df = df.drop(columns=cols_to_drop)\n",
    "    iris_df.rename(columns={'species_name': 'species'}, inplace=True)\n",
    "    dummy_species = pd.get_dummies(iris_df['species'], dummy_na=False, drop_first=[True, True])\n",
    "    iris_df = pd.concat([iris_df, dummy_species], axis=1)\n",
    "    return iris_df"
   ]
  },
  {
   "cell_type": "code",
   "execution_count": null,
   "id": "f28bb835",
   "metadata": {},
   "outputs": [],
   "source": [
    "prep_iris(iris_df)"
   ]
  },
  {
   "cell_type": "markdown",
   "id": "2c4a6c14",
   "metadata": {},
   "source": [
    "### Using the Titanic dataset\n",
    "\n",
    "#### 1. Use the function defined in acquire.py to load the Titanic data."
   ]
  },
  {
   "cell_type": "code",
   "execution_count": null,
   "id": "5a025d33",
   "metadata": {},
   "outputs": [],
   "source": [
    "titanic_df = acquire.get_titanic_data()"
   ]
  },
  {
   "cell_type": "code",
   "execution_count": null,
   "id": "c75ad4d3",
   "metadata": {},
   "outputs": [],
   "source": [
    "titanic_df.head()"
   ]
  },
  {
   "cell_type": "code",
   "execution_count": null,
   "id": "de1abb6c",
   "metadata": {},
   "outputs": [],
   "source": [
    "titanic_df.info()"
   ]
  },
  {
   "cell_type": "markdown",
   "id": "5dc48ca8",
   "metadata": {},
   "source": [
    "#### 2. Drop any unnecessary, unhelpful, or duplicated columns."
   ]
  },
  {
   "cell_type": "code",
   "execution_count": null,
   "id": "e2285c30",
   "metadata": {},
   "outputs": [],
   "source": [
    "titanic_df = titanic_df.drop_duplicates()\n",
    "titanic_df = titanic_df.drop(columns=['age','deck', 'embarked'])"
   ]
  },
  {
   "cell_type": "code",
   "execution_count": null,
   "id": "25ab2703",
   "metadata": {},
   "outputs": [],
   "source": [
    "titanic_df.info()"
   ]
  },
  {
   "cell_type": "code",
   "execution_count": null,
   "id": "f73db01c",
   "metadata": {},
   "outputs": [],
   "source": [
    "titanic_df['embark_town'] = titanic_df['embark_town'].fillna(value='Southampton')"
   ]
  },
  {
   "cell_type": "code",
   "execution_count": null,
   "id": "0446446f",
   "metadata": {},
   "outputs": [],
   "source": [
    "titanic_df.info()"
   ]
  },
  {
   "cell_type": "markdown",
   "id": "22945d29",
   "metadata": {},
   "source": [
    "#### 3. Encode the categorical columns. Create dummy variables of the categorical columns and concatenate them onto the dataframe."
   ]
  },
  {
   "cell_type": "code",
   "execution_count": null,
   "id": "53791425",
   "metadata": {},
   "outputs": [],
   "source": [
    "dummy_df = pd.get_dummies(titanic_df[['sex','class','embark_town']],dummy_na=False, drop_first=[True,True,True])"
   ]
  },
  {
   "cell_type": "code",
   "execution_count": null,
   "id": "31c524c2",
   "metadata": {},
   "outputs": [],
   "source": [
    "dummy_df"
   ]
  },
  {
   "cell_type": "code",
   "execution_count": null,
   "id": "9ded4e12",
   "metadata": {},
   "outputs": [],
   "source": [
    "titanic_df = pd.concat([titanic_df,dummy_df],axis=1)\n",
    "titanic_df.head()"
   ]
  },
  {
   "cell_type": "markdown",
   "id": "ff78bf0c",
   "metadata": {},
   "source": [
    "#### 4. Create a function named prep_titanic that accepts the raw titanic data, and returns the data with the transformations above applied."
   ]
  },
  {
   "cell_type": "code",
   "execution_count": null,
   "id": "42f18f4e",
   "metadata": {},
   "outputs": [],
   "source": [
    "def prep_titanic(df):\n",
    "    titanic_df = df.drop_duplicates()\n",
    "    titanic_df = titanic_df.drop(columns=['age','deck', 'embarked'])\n",
    "    titanic_df['embark_town'] = titanic_df['embark_town'].fillna(value='Southampton')\n",
    "    dummy_df = pd.get_dummies(titanic_df[['sex','class','embark_town']],dummy_na=False, drop_first=[True,True])\n",
    "    titanic_df = pd.concat([titanic_df,dummy_df],axis=1)\n",
    "    return titanic_df"
   ]
  },
  {
   "cell_type": "code",
   "execution_count": null,
   "id": "ab8dbd7f",
   "metadata": {},
   "outputs": [],
   "source": [
    "titanic_df.head()"
   ]
  },
  {
   "cell_type": "code",
   "execution_count": null,
   "id": "9673c5ba",
   "metadata": {},
   "outputs": [],
   "source": [
    "prep_titanic(titanic_df).head()"
   ]
  },
  {
   "cell_type": "markdown",
   "id": "3c78bbc8",
   "metadata": {},
   "source": [
    "### Using the Telco dataset\n",
    "\n",
    "#### 1. Use the function defined in acquire.py to load the Telco data."
   ]
  },
  {
   "cell_type": "code",
   "execution_count": 89,
   "id": "2013ca8b",
   "metadata": {},
   "outputs": [],
   "source": [
    "telco_df = acquire.get_telco_data()"
   ]
  },
  {
   "cell_type": "code",
   "execution_count": 90,
   "id": "570cef79",
   "metadata": {},
   "outputs": [
    {
     "name": "stdout",
     "output_type": "stream",
     "text": [
      "<class 'pandas.core.frame.DataFrame'>\n",
      "Int64Index: 7043 entries, 0 to 7042\n",
      "Data columns (total 24 columns):\n",
      " #   Column                    Non-Null Count  Dtype  \n",
      "---  ------                    --------------  -----  \n",
      " 0   payment_type_id           7043 non-null   int64  \n",
      " 1   internet_service_type_id  7043 non-null   int64  \n",
      " 2   contract_type_id          7043 non-null   int64  \n",
      " 3   customer_id               7043 non-null   object \n",
      " 4   gender                    7043 non-null   object \n",
      " 5   senior_citizen            7043 non-null   int64  \n",
      " 6   partner                   7043 non-null   object \n",
      " 7   dependents                7043 non-null   object \n",
      " 8   tenure                    7043 non-null   int64  \n",
      " 9   phone_service             7043 non-null   object \n",
      " 10  multiple_lines            7043 non-null   object \n",
      " 11  online_security           7043 non-null   object \n",
      " 12  online_backup             7043 non-null   object \n",
      " 13  device_protection         7043 non-null   object \n",
      " 14  tech_support              7043 non-null   object \n",
      " 15  streaming_tv              7043 non-null   object \n",
      " 16  streaming_movies          7043 non-null   object \n",
      " 17  paperless_billing         7043 non-null   object \n",
      " 18  monthly_charges           7043 non-null   float64\n",
      " 19  total_charges             7043 non-null   object \n",
      " 20  churn                     7043 non-null   object \n",
      " 21  contract_type             7043 non-null   object \n",
      " 22  internet_service_type     7043 non-null   object \n",
      " 23  payment_type              7043 non-null   object \n",
      "dtypes: float64(1), int64(5), object(18)\n",
      "memory usage: 1.3+ MB\n"
     ]
    }
   ],
   "source": [
    "telco_df.info()"
   ]
  },
  {
   "cell_type": "markdown",
   "id": "9c226648",
   "metadata": {},
   "source": [
    "#### 2. Drop any unnecessary, unhelpful, or duplicated columns. This could mean dropping foreign key columns but keeping the corresponding string values, for example."
   ]
  },
  {
   "cell_type": "code",
   "execution_count": null,
   "id": "1dca4f1c",
   "metadata": {},
   "outputs": [],
   "source": [
    "telco_df.head()"
   ]
  },
  {
   "cell_type": "code",
   "execution_count": null,
   "id": "ff14f881",
   "metadata": {},
   "outputs": [],
   "source": [
    "telco_df = telco_df.drop(columns = ['payment_type_id','internet_service_type_id','contract_type_id','customer_id'])"
   ]
  },
  {
   "cell_type": "code",
   "execution_count": null,
   "id": "9182613f",
   "metadata": {},
   "outputs": [],
   "source": [
    "telco_df.info()"
   ]
  },
  {
   "cell_type": "markdown",
   "id": "63dc9315",
   "metadata": {},
   "source": [
    "#### 3. Encode the categorical columns. Create dummy variables of the categorical columns and concatenate them onto the dataframe."
   ]
  },
  {
   "cell_type": "code",
   "execution_count": null,
   "id": "7157ed53",
   "metadata": {},
   "outputs": [],
   "source": [
    "dummy_df = pd.get_dummies(telco_df[['gender','partner','dependents','phone_service','multiple_lines','online_security','online_backup','device_protection','tech_support','streaming_tv','streaming_movies','paperless_billing','churn','contract_type','internet_service_type','payment_type']],dummy_na=False, drop_first=[True,True,True,True,True,True,True,True,True,True,True,True,True,True,True,True])"
   ]
  },
  {
   "cell_type": "code",
   "execution_count": null,
   "id": "dabff1c7",
   "metadata": {},
   "outputs": [],
   "source": [
    "telco_df = pd.concat([telco_df, dummy_df], axis=1)"
   ]
  },
  {
   "cell_type": "code",
   "execution_count": 88,
   "id": "ea3391df",
   "metadata": {},
   "outputs": [
    {
     "ename": "NameError",
     "evalue": "name 'telco_df' is not defined",
     "output_type": "error",
     "traceback": [
      "\u001b[0;31m---------------------------------------------------------------------------\u001b[0m",
      "\u001b[0;31mNameError\u001b[0m                                 Traceback (most recent call last)",
      "\u001b[0;32m/var/folders/jl/s3ptdwdx55v01d2g2wrs7vdc0000gn/T/ipykernel_9077/3753809885.py\u001b[0m in \u001b[0;36m<module>\u001b[0;34m\u001b[0m\n\u001b[0;32m----> 1\u001b[0;31m \u001b[0mtelco_df\u001b[0m\u001b[0;34m.\u001b[0m\u001b[0mhead\u001b[0m\u001b[0;34m(\u001b[0m\u001b[0;34m)\u001b[0m\u001b[0;34m\u001b[0m\u001b[0;34m\u001b[0m\u001b[0m\n\u001b[0m",
      "\u001b[0;31mNameError\u001b[0m: name 'telco_df' is not defined"
     ]
    }
   ],
   "source": [
    "telco_df.head()"
   ]
  },
  {
   "cell_type": "markdown",
   "id": "bf0d94d5",
   "metadata": {},
   "source": [
    "#### 4. Create a function named prep_telco that accepts the raw telco data, and returns the data with the transformations above applied."
   ]
  },
  {
   "cell_type": "code",
   "execution_count": 91,
   "id": "d803549e",
   "metadata": {},
   "outputs": [],
   "source": [
    "def prep_telco(df):\n",
    "        telco_df = df.drop(columns = ['payment_type_id','internet_service_type_id','contract_type_id','customer_id'])\n",
    "        dummy_df = pd.get_dummies(telco_df[['gender','partner','dependents','phone_service','multiple_lines','online_security','online_backup','device_protection','tech_support','streaming_tv','streaming_movies','paperless_billing','churn','contract_type','internet_service_type','payment_type']],dummy_na=False, drop_first=[True,True,True,True,True,True,True,True,True,True,True,True,True,True,True,True])\n",
    "        telco_df = pd.concat([telco_df, dummy_df], axis=1)\n",
    "        return telco_df"
   ]
  },
  {
   "cell_type": "code",
   "execution_count": 92,
   "id": "b581ad50",
   "metadata": {},
   "outputs": [
    {
     "data": {
      "text/html": [
       "<div>\n",
       "<style scoped>\n",
       "    .dataframe tbody tr th:only-of-type {\n",
       "        vertical-align: middle;\n",
       "    }\n",
       "\n",
       "    .dataframe tbody tr th {\n",
       "        vertical-align: top;\n",
       "    }\n",
       "\n",
       "    .dataframe thead th {\n",
       "        text-align: right;\n",
       "    }\n",
       "</style>\n",
       "<table border=\"1\" class=\"dataframe\">\n",
       "  <thead>\n",
       "    <tr style=\"text-align: right;\">\n",
       "      <th></th>\n",
       "      <th>gender</th>\n",
       "      <th>senior_citizen</th>\n",
       "      <th>partner</th>\n",
       "      <th>dependents</th>\n",
       "      <th>tenure</th>\n",
       "      <th>phone_service</th>\n",
       "      <th>multiple_lines</th>\n",
       "      <th>online_security</th>\n",
       "      <th>online_backup</th>\n",
       "      <th>device_protection</th>\n",
       "      <th>...</th>\n",
       "      <th>streaming_movies_Yes</th>\n",
       "      <th>paperless_billing_Yes</th>\n",
       "      <th>churn_Yes</th>\n",
       "      <th>contract_type_One year</th>\n",
       "      <th>contract_type_Two year</th>\n",
       "      <th>internet_service_type_Fiber optic</th>\n",
       "      <th>internet_service_type_None</th>\n",
       "      <th>payment_type_Credit card (automatic)</th>\n",
       "      <th>payment_type_Electronic check</th>\n",
       "      <th>payment_type_Mailed check</th>\n",
       "    </tr>\n",
       "  </thead>\n",
       "  <tbody>\n",
       "    <tr>\n",
       "      <th>0</th>\n",
       "      <td>Female</td>\n",
       "      <td>0</td>\n",
       "      <td>Yes</td>\n",
       "      <td>Yes</td>\n",
       "      <td>65</td>\n",
       "      <td>Yes</td>\n",
       "      <td>Yes</td>\n",
       "      <td>Yes</td>\n",
       "      <td>Yes</td>\n",
       "      <td>Yes</td>\n",
       "      <td>...</td>\n",
       "      <td>1</td>\n",
       "      <td>1</td>\n",
       "      <td>0</td>\n",
       "      <td>0</td>\n",
       "      <td>1</td>\n",
       "      <td>0</td>\n",
       "      <td>0</td>\n",
       "      <td>0</td>\n",
       "      <td>0</td>\n",
       "      <td>1</td>\n",
       "    </tr>\n",
       "    <tr>\n",
       "      <th>1</th>\n",
       "      <td>Male</td>\n",
       "      <td>0</td>\n",
       "      <td>No</td>\n",
       "      <td>No</td>\n",
       "      <td>54</td>\n",
       "      <td>No</td>\n",
       "      <td>No phone service</td>\n",
       "      <td>Yes</td>\n",
       "      <td>No</td>\n",
       "      <td>No</td>\n",
       "      <td>...</td>\n",
       "      <td>0</td>\n",
       "      <td>0</td>\n",
       "      <td>0</td>\n",
       "      <td>0</td>\n",
       "      <td>1</td>\n",
       "      <td>0</td>\n",
       "      <td>0</td>\n",
       "      <td>1</td>\n",
       "      <td>0</td>\n",
       "      <td>0</td>\n",
       "    </tr>\n",
       "    <tr>\n",
       "      <th>2</th>\n",
       "      <td>Female</td>\n",
       "      <td>0</td>\n",
       "      <td>No</td>\n",
       "      <td>No</td>\n",
       "      <td>56</td>\n",
       "      <td>No</td>\n",
       "      <td>No phone service</td>\n",
       "      <td>Yes</td>\n",
       "      <td>Yes</td>\n",
       "      <td>Yes</td>\n",
       "      <td>...</td>\n",
       "      <td>0</td>\n",
       "      <td>0</td>\n",
       "      <td>0</td>\n",
       "      <td>0</td>\n",
       "      <td>1</td>\n",
       "      <td>0</td>\n",
       "      <td>0</td>\n",
       "      <td>0</td>\n",
       "      <td>0</td>\n",
       "      <td>0</td>\n",
       "    </tr>\n",
       "    <tr>\n",
       "      <th>3</th>\n",
       "      <td>Male</td>\n",
       "      <td>0</td>\n",
       "      <td>Yes</td>\n",
       "      <td>Yes</td>\n",
       "      <td>20</td>\n",
       "      <td>No</td>\n",
       "      <td>No phone service</td>\n",
       "      <td>Yes</td>\n",
       "      <td>No</td>\n",
       "      <td>Yes</td>\n",
       "      <td>...</td>\n",
       "      <td>0</td>\n",
       "      <td>1</td>\n",
       "      <td>0</td>\n",
       "      <td>0</td>\n",
       "      <td>1</td>\n",
       "      <td>0</td>\n",
       "      <td>0</td>\n",
       "      <td>1</td>\n",
       "      <td>0</td>\n",
       "      <td>0</td>\n",
       "    </tr>\n",
       "    <tr>\n",
       "      <th>4</th>\n",
       "      <td>Male</td>\n",
       "      <td>0</td>\n",
       "      <td>Yes</td>\n",
       "      <td>No</td>\n",
       "      <td>72</td>\n",
       "      <td>Yes</td>\n",
       "      <td>Yes</td>\n",
       "      <td>No</td>\n",
       "      <td>Yes</td>\n",
       "      <td>Yes</td>\n",
       "      <td>...</td>\n",
       "      <td>1</td>\n",
       "      <td>1</td>\n",
       "      <td>0</td>\n",
       "      <td>0</td>\n",
       "      <td>1</td>\n",
       "      <td>0</td>\n",
       "      <td>0</td>\n",
       "      <td>0</td>\n",
       "      <td>0</td>\n",
       "      <td>0</td>\n",
       "    </tr>\n",
       "  </tbody>\n",
       "</table>\n",
       "<p>5 rows × 47 columns</p>\n",
       "</div>"
      ],
      "text/plain": [
       "   gender  senior_citizen partner dependents  tenure phone_service  \\\n",
       "0  Female               0     Yes        Yes      65           Yes   \n",
       "1    Male               0      No         No      54            No   \n",
       "2  Female               0      No         No      56            No   \n",
       "3    Male               0     Yes        Yes      20            No   \n",
       "4    Male               0     Yes         No      72           Yes   \n",
       "\n",
       "     multiple_lines online_security online_backup device_protection  ...  \\\n",
       "0               Yes             Yes           Yes               Yes  ...   \n",
       "1  No phone service             Yes            No                No  ...   \n",
       "2  No phone service             Yes           Yes               Yes  ...   \n",
       "3  No phone service             Yes            No               Yes  ...   \n",
       "4               Yes              No           Yes               Yes  ...   \n",
       "\n",
       "  streaming_movies_Yes paperless_billing_Yes churn_Yes contract_type_One year  \\\n",
       "0                    1                     1         0                      0   \n",
       "1                    0                     0         0                      0   \n",
       "2                    0                     0         0                      0   \n",
       "3                    0                     1         0                      0   \n",
       "4                    1                     1         0                      0   \n",
       "\n",
       "   contract_type_Two year internet_service_type_Fiber optic  \\\n",
       "0                       1                                 0   \n",
       "1                       1                                 0   \n",
       "2                       1                                 0   \n",
       "3                       1                                 0   \n",
       "4                       1                                 0   \n",
       "\n",
       "  internet_service_type_None payment_type_Credit card (automatic)  \\\n",
       "0                          0                                    0   \n",
       "1                          0                                    1   \n",
       "2                          0                                    0   \n",
       "3                          0                                    1   \n",
       "4                          0                                    0   \n",
       "\n",
       "  payment_type_Electronic check payment_type_Mailed check  \n",
       "0                             0                         1  \n",
       "1                             0                         0  \n",
       "2                             0                         0  \n",
       "3                             0                         0  \n",
       "4                             0                         0  \n",
       "\n",
       "[5 rows x 47 columns]"
      ]
     },
     "execution_count": 92,
     "metadata": {},
     "output_type": "execute_result"
    }
   ],
   "source": [
    "prep_telco(telco_df).head()"
   ]
  },
  {
   "cell_type": "markdown",
   "id": "e303a8ec",
   "metadata": {},
   "source": [
    "### Section 1 - iris_db: Using iris data from our mySQL server and the methods used in the lesson above:\n",
    "\n",
    "#### 1. Acquire, prepare & split your data."
   ]
  },
  {
   "cell_type": "code",
   "execution_count": 4,
   "id": "f78afd52",
   "metadata": {},
   "outputs": [],
   "source": [
    "def prep_iris(df):\n",
    "    cols_to_drop = ['species_id']\n",
    "    iris_df = df.drop(columns=cols_to_drop)\n",
    "    iris_df.rename(columns={'species_name': 'species'}, inplace=True)\n",
    "    dummy_species = pd.get_dummies(iris_df['species'], dummy_na=False, drop_first=[True, True])\n",
    "    iris_df = pd.concat([iris_df, dummy_species], axis=1)\n",
    "    return iris_df"
   ]
  },
  {
   "cell_type": "code",
   "execution_count": 2,
   "id": "35793adb",
   "metadata": {},
   "outputs": [],
   "source": [
    "iris_df = acquire.get_iris_data()"
   ]
  },
  {
   "cell_type": "code",
   "execution_count": 5,
   "id": "b37559ea",
   "metadata": {},
   "outputs": [
    {
     "data": {
      "text/html": [
       "<div>\n",
       "<style scoped>\n",
       "    .dataframe tbody tr th:only-of-type {\n",
       "        vertical-align: middle;\n",
       "    }\n",
       "\n",
       "    .dataframe tbody tr th {\n",
       "        vertical-align: top;\n",
       "    }\n",
       "\n",
       "    .dataframe thead th {\n",
       "        text-align: right;\n",
       "    }\n",
       "</style>\n",
       "<table border=\"1\" class=\"dataframe\">\n",
       "  <thead>\n",
       "    <tr style=\"text-align: right;\">\n",
       "      <th></th>\n",
       "      <th>species</th>\n",
       "      <th>sepal_length</th>\n",
       "      <th>sepal_width</th>\n",
       "      <th>petal_length</th>\n",
       "      <th>petal_width</th>\n",
       "      <th>versicolor</th>\n",
       "      <th>virginica</th>\n",
       "    </tr>\n",
       "  </thead>\n",
       "  <tbody>\n",
       "    <tr>\n",
       "      <th>0</th>\n",
       "      <td>setosa</td>\n",
       "      <td>5.1</td>\n",
       "      <td>3.5</td>\n",
       "      <td>1.4</td>\n",
       "      <td>0.2</td>\n",
       "      <td>0</td>\n",
       "      <td>0</td>\n",
       "    </tr>\n",
       "    <tr>\n",
       "      <th>1</th>\n",
       "      <td>setosa</td>\n",
       "      <td>4.9</td>\n",
       "      <td>3.0</td>\n",
       "      <td>1.4</td>\n",
       "      <td>0.2</td>\n",
       "      <td>0</td>\n",
       "      <td>0</td>\n",
       "    </tr>\n",
       "    <tr>\n",
       "      <th>2</th>\n",
       "      <td>setosa</td>\n",
       "      <td>4.7</td>\n",
       "      <td>3.2</td>\n",
       "      <td>1.3</td>\n",
       "      <td>0.2</td>\n",
       "      <td>0</td>\n",
       "      <td>0</td>\n",
       "    </tr>\n",
       "    <tr>\n",
       "      <th>3</th>\n",
       "      <td>setosa</td>\n",
       "      <td>4.6</td>\n",
       "      <td>3.1</td>\n",
       "      <td>1.5</td>\n",
       "      <td>0.2</td>\n",
       "      <td>0</td>\n",
       "      <td>0</td>\n",
       "    </tr>\n",
       "    <tr>\n",
       "      <th>4</th>\n",
       "      <td>setosa</td>\n",
       "      <td>5.0</td>\n",
       "      <td>3.6</td>\n",
       "      <td>1.4</td>\n",
       "      <td>0.2</td>\n",
       "      <td>0</td>\n",
       "      <td>0</td>\n",
       "    </tr>\n",
       "    <tr>\n",
       "      <th>...</th>\n",
       "      <td>...</td>\n",
       "      <td>...</td>\n",
       "      <td>...</td>\n",
       "      <td>...</td>\n",
       "      <td>...</td>\n",
       "      <td>...</td>\n",
       "      <td>...</td>\n",
       "    </tr>\n",
       "    <tr>\n",
       "      <th>145</th>\n",
       "      <td>virginica</td>\n",
       "      <td>6.7</td>\n",
       "      <td>3.0</td>\n",
       "      <td>5.2</td>\n",
       "      <td>2.3</td>\n",
       "      <td>0</td>\n",
       "      <td>1</td>\n",
       "    </tr>\n",
       "    <tr>\n",
       "      <th>146</th>\n",
       "      <td>virginica</td>\n",
       "      <td>6.3</td>\n",
       "      <td>2.5</td>\n",
       "      <td>5.0</td>\n",
       "      <td>1.9</td>\n",
       "      <td>0</td>\n",
       "      <td>1</td>\n",
       "    </tr>\n",
       "    <tr>\n",
       "      <th>147</th>\n",
       "      <td>virginica</td>\n",
       "      <td>6.5</td>\n",
       "      <td>3.0</td>\n",
       "      <td>5.2</td>\n",
       "      <td>2.0</td>\n",
       "      <td>0</td>\n",
       "      <td>1</td>\n",
       "    </tr>\n",
       "    <tr>\n",
       "      <th>148</th>\n",
       "      <td>virginica</td>\n",
       "      <td>6.2</td>\n",
       "      <td>3.4</td>\n",
       "      <td>5.4</td>\n",
       "      <td>2.3</td>\n",
       "      <td>0</td>\n",
       "      <td>1</td>\n",
       "    </tr>\n",
       "    <tr>\n",
       "      <th>149</th>\n",
       "      <td>virginica</td>\n",
       "      <td>5.9</td>\n",
       "      <td>3.0</td>\n",
       "      <td>5.1</td>\n",
       "      <td>1.8</td>\n",
       "      <td>0</td>\n",
       "      <td>1</td>\n",
       "    </tr>\n",
       "  </tbody>\n",
       "</table>\n",
       "<p>150 rows × 7 columns</p>\n",
       "</div>"
      ],
      "text/plain": [
       "       species  sepal_length  sepal_width  petal_length  petal_width  \\\n",
       "0       setosa           5.1          3.5           1.4          0.2   \n",
       "1       setosa           4.9          3.0           1.4          0.2   \n",
       "2       setosa           4.7          3.2           1.3          0.2   \n",
       "3       setosa           4.6          3.1           1.5          0.2   \n",
       "4       setosa           5.0          3.6           1.4          0.2   \n",
       "..         ...           ...          ...           ...          ...   \n",
       "145  virginica           6.7          3.0           5.2          2.3   \n",
       "146  virginica           6.3          2.5           5.0          1.9   \n",
       "147  virginica           6.5          3.0           5.2          2.0   \n",
       "148  virginica           6.2          3.4           5.4          2.3   \n",
       "149  virginica           5.9          3.0           5.1          1.8   \n",
       "\n",
       "     versicolor  virginica  \n",
       "0             0          0  \n",
       "1             0          0  \n",
       "2             0          0  \n",
       "3             0          0  \n",
       "4             0          0  \n",
       "..          ...        ...  \n",
       "145           0          1  \n",
       "146           0          1  \n",
       "147           0          1  \n",
       "148           0          1  \n",
       "149           0          1  \n",
       "\n",
       "[150 rows x 7 columns]"
      ]
     },
     "execution_count": 5,
     "metadata": {},
     "output_type": "execute_result"
    }
   ],
   "source": [
    "prep_iris(iris_df)"
   ]
  },
  {
   "cell_type": "code",
   "execution_count": 6,
   "id": "34e0abeb",
   "metadata": {},
   "outputs": [],
   "source": [
    "iris_df = prep_iris(iris_df)"
   ]
  },
  {
   "cell_type": "code",
   "execution_count": 7,
   "id": "1b61d9cd",
   "metadata": {},
   "outputs": [
    {
     "data": {
      "text/html": [
       "<div>\n",
       "<style scoped>\n",
       "    .dataframe tbody tr th:only-of-type {\n",
       "        vertical-align: middle;\n",
       "    }\n",
       "\n",
       "    .dataframe tbody tr th {\n",
       "        vertical-align: top;\n",
       "    }\n",
       "\n",
       "    .dataframe thead th {\n",
       "        text-align: right;\n",
       "    }\n",
       "</style>\n",
       "<table border=\"1\" class=\"dataframe\">\n",
       "  <thead>\n",
       "    <tr style=\"text-align: right;\">\n",
       "      <th></th>\n",
       "      <th>species</th>\n",
       "      <th>sepal_length</th>\n",
       "      <th>sepal_width</th>\n",
       "      <th>petal_length</th>\n",
       "      <th>petal_width</th>\n",
       "      <th>versicolor</th>\n",
       "      <th>virginica</th>\n",
       "    </tr>\n",
       "  </thead>\n",
       "  <tbody>\n",
       "    <tr>\n",
       "      <th>0</th>\n",
       "      <td>setosa</td>\n",
       "      <td>5.1</td>\n",
       "      <td>3.5</td>\n",
       "      <td>1.4</td>\n",
       "      <td>0.2</td>\n",
       "      <td>0</td>\n",
       "      <td>0</td>\n",
       "    </tr>\n",
       "    <tr>\n",
       "      <th>1</th>\n",
       "      <td>setosa</td>\n",
       "      <td>4.9</td>\n",
       "      <td>3.0</td>\n",
       "      <td>1.4</td>\n",
       "      <td>0.2</td>\n",
       "      <td>0</td>\n",
       "      <td>0</td>\n",
       "    </tr>\n",
       "    <tr>\n",
       "      <th>2</th>\n",
       "      <td>setosa</td>\n",
       "      <td>4.7</td>\n",
       "      <td>3.2</td>\n",
       "      <td>1.3</td>\n",
       "      <td>0.2</td>\n",
       "      <td>0</td>\n",
       "      <td>0</td>\n",
       "    </tr>\n",
       "    <tr>\n",
       "      <th>3</th>\n",
       "      <td>setosa</td>\n",
       "      <td>4.6</td>\n",
       "      <td>3.1</td>\n",
       "      <td>1.5</td>\n",
       "      <td>0.2</td>\n",
       "      <td>0</td>\n",
       "      <td>0</td>\n",
       "    </tr>\n",
       "    <tr>\n",
       "      <th>4</th>\n",
       "      <td>setosa</td>\n",
       "      <td>5.0</td>\n",
       "      <td>3.6</td>\n",
       "      <td>1.4</td>\n",
       "      <td>0.2</td>\n",
       "      <td>0</td>\n",
       "      <td>0</td>\n",
       "    </tr>\n",
       "  </tbody>\n",
       "</table>\n",
       "</div>"
      ],
      "text/plain": [
       "  species  sepal_length  sepal_width  petal_length  petal_width  versicolor  \\\n",
       "0  setosa           5.1          3.5           1.4          0.2           0   \n",
       "1  setosa           4.9          3.0           1.4          0.2           0   \n",
       "2  setosa           4.7          3.2           1.3          0.2           0   \n",
       "3  setosa           4.6          3.1           1.5          0.2           0   \n",
       "4  setosa           5.0          3.6           1.4          0.2           0   \n",
       "\n",
       "   virginica  \n",
       "0          0  \n",
       "1          0  \n",
       "2          0  \n",
       "3          0  \n",
       "4          0  "
      ]
     },
     "execution_count": 7,
     "metadata": {},
     "output_type": "execute_result"
    }
   ],
   "source": [
    "iris_df.head()"
   ]
  },
  {
   "cell_type": "code",
   "execution_count": 8,
   "id": "d4476458",
   "metadata": {},
   "outputs": [
    {
     "name": "stdout",
     "output_type": "stream",
     "text": [
      "<class 'pandas.core.frame.DataFrame'>\n",
      "Int64Index: 150 entries, 0 to 149\n",
      "Data columns (total 7 columns):\n",
      " #   Column        Non-Null Count  Dtype  \n",
      "---  ------        --------------  -----  \n",
      " 0   species       150 non-null    object \n",
      " 1   sepal_length  150 non-null    float64\n",
      " 2   sepal_width   150 non-null    float64\n",
      " 3   petal_length  150 non-null    float64\n",
      " 4   petal_width   150 non-null    float64\n",
      " 5   versicolor    150 non-null    uint8  \n",
      " 6   virginica     150 non-null    uint8  \n",
      "dtypes: float64(4), object(1), uint8(2)\n",
      "memory usage: 7.3+ KB\n"
     ]
    }
   ],
   "source": [
    "iris_df.info()"
   ]
  },
  {
   "cell_type": "code",
   "execution_count": 9,
   "id": "641de0a8",
   "metadata": {},
   "outputs": [],
   "source": [
    "train, test = train_test_split(iris_df, test_size = .2, random_state=123)"
   ]
  },
  {
   "cell_type": "code",
   "execution_count": 12,
   "id": "75943948",
   "metadata": {},
   "outputs": [],
   "source": [
    "train, validate = train_test_split(train, test_size=.3, random_state=123)"
   ]
  },
  {
   "cell_type": "code",
   "execution_count": 19,
   "id": "4cd5b034",
   "metadata": {},
   "outputs": [
    {
     "name": "stdout",
     "output_type": "stream",
     "text": [
      "Train: (84, 7)\n",
      "Validate: (36, 7)\n",
      "Test: (30, 7)\n"
     ]
    }
   ],
   "source": [
    "print(f'Train: {train.shape}')\n",
    "print(f'Validate: {validate.shape}')\n",
    "print(f'Test: {test.shape}')"
   ]
  },
  {
   "cell_type": "markdown",
   "id": "c8723b5c",
   "metadata": {},
   "source": [
    "### 2.  Univariate Stats\n",
    "\n",
    "* For each measurement type (quantitative variable): create a histogram, boxplot, & compute descriptive statistics (using .describe()).\n",
    "\n",
    "* For each species (categorical variable): create a frequency table and a bar plot of those frequencies.\n",
    "\n",
    "* Document takeaways & any actions."
   ]
  },
  {
   "cell_type": "code",
   "execution_count": 15,
   "id": "8b625fd1",
   "metadata": {},
   "outputs": [
    {
     "name": "stdout",
     "output_type": "stream",
     "text": [
      "<class 'pandas.core.frame.DataFrame'>\n",
      "Int64Index: 84 entries, 56 to 113\n",
      "Data columns (total 7 columns):\n",
      " #   Column        Non-Null Count  Dtype  \n",
      "---  ------        --------------  -----  \n",
      " 0   species       84 non-null     object \n",
      " 1   sepal_length  84 non-null     float64\n",
      " 2   sepal_width   84 non-null     float64\n",
      " 3   petal_length  84 non-null     float64\n",
      " 4   petal_width   84 non-null     float64\n",
      " 5   versicolor    84 non-null     uint8  \n",
      " 6   virginica     84 non-null     uint8  \n",
      "dtypes: float64(4), object(1), uint8(2)\n",
      "memory usage: 4.1+ KB\n"
     ]
    }
   ],
   "source": [
    "train.info()"
   ]
  },
  {
   "cell_type": "code",
   "execution_count": 32,
   "id": "cdaf5a40",
   "metadata": {},
   "outputs": [
    {
     "data": {
      "text/plain": [
       "versicolor    31\n",
       "virginica     27\n",
       "setosa        26\n",
       "Name: species, dtype: int64"
      ]
     },
     "execution_count": 32,
     "metadata": {},
     "output_type": "execute_result"
    }
   ],
   "source": [
    "train.species.value_counts()"
   ]
  },
  {
   "cell_type": "code",
   "execution_count": null,
   "id": "7d885696",
   "metadata": {},
   "outputs": [],
   "source": [
    "print(train.describe())\n",
    "print(validate.describe())\n",
    "print(test.describe())"
   ]
  },
  {
   "cell_type": "code",
   "execution_count": 17,
   "id": "3cd0c22d",
   "metadata": {},
   "outputs": [],
   "source": [
    "num_cols = train.columns[[train[col].dtype == 'float64' for col in train.columns]]"
   ]
  },
  {
   "cell_type": "code",
   "execution_count": 18,
   "id": "e8b57a43",
   "metadata": {},
   "outputs": [
    {
     "data": {
      "image/png": "[encoded data removed]",
      "text/plain": [
       "<Figure size 432x288 with 1 Axes>"
      ]
     },
     "metadata": {
      "needs_background": "light"
     },
     "output_type": "display_data"
    },
    {
     "data": {
      "image/png": "[encoded data removed]",
      "text/plain": [
       "<Figure size 432x288 with 1 Axes>"
      ]
     },
     "metadata": {
      "needs_background": "light"
     },
     "output_type": "display_data"
    },
    {
     "data": {
      "image/png": "[encoded data removed]",
      "text/plain": [
       "<Figure size 432x288 with 1 Axes>"
      ]
     },
     "metadata": {
      "needs_background": "light"
     },
     "output_type": "display_data"
    },
    {
     "data": {
      "image/png": "[encoded data removed]",
      "text/plain": [
       "<Figure size 432x288 with 1 Axes>"
      ]
     },
     "metadata": {
      "needs_background": "light"
     },
     "output_type": "display_data"
    },
    {
     "data": {
      "image/png": "[encoded data removed]",
      "text/plain": [
       "<Figure size 432x288 with 1 Axes>"
      ]
     },
     "metadata": {
      "needs_background": "light"
     },
     "output_type": "display_data"
    },
    {
     "data": {
      "image/png": "[encoded data removed]",
      "text/plain": [
       "<Figure size 432x288 with 1 Axes>"
      ]
     },
     "metadata": {
      "needs_background": "light"
     },
     "output_type": "display_data"
    },
    {
     "data": {
      "image/png": "[encoded data removed]",
      "text/plain": [
       "<Figure size 432x288 with 1 Axes>"
      ]
     },
     "metadata": {
      "needs_background": "light"
     },
     "output_type": "display_data"
    },
    {
     "data": {
      "image/png": "[encoded data removed]",
      "text/plain": [
       "<Figure size 432x288 with 1 Axes>"
      ]
     },
     "metadata": {
      "needs_background": "light"
     },
     "output_type": "display_data"
    }
   ],
   "source": [
    "for col in num_cols:\n",
    "    plt.hist(train[col])\n",
    "    plt.title(col)\n",
    "    plt.show()\n",
    "    plt.boxplot(train[col])\n",
    "    plt.title(col)\n",
    "    plt.show()"
   ]
  },
  {
   "cell_type": "code",
   "execution_count": 20,
   "id": "60675a9e",
   "metadata": {},
   "outputs": [],
   "source": [
    "obj_cols = train.columns[[train[col].dtype == 'O' for col in train.columns]]"
   ]
  },
  {
   "cell_type": "code",
   "execution_count": 23,
   "id": "76ef1be2",
   "metadata": {},
   "outputs": [
    {
     "data": {
      "image/png": "[encoded data removed]",
      "text/plain": [
       "<Figure size 432x288 with 1 Axes>"
      ]
     },
     "metadata": {
      "needs_background": "light"
     },
     "output_type": "display_data"
    }
   ],
   "source": [
    "for col in obj_cols:\n",
    "    plt.hist(train[col])\n",
    "    plt.title(col)\n",
    "    plt.show()"
   ]
  },
  {
   "cell_type": "markdown",
   "id": "f7d0b37c",
   "metadata": {},
   "source": [
    "#### Takeaways & Actions"
   ]
  },
  {
   "cell_type": "markdown",
   "id": "d21b1b27",
   "metadata": {},
   "source": [
    "* There is about an equal number of each species of plant.\n",
    "* Sepal length seems to have two normal distributions within the same diagram.\n",
    "* Sepal width seems to be normally distributed.\n",
    "* There are two normally dsitributed curves in petal length.\n",
    "* Petal width would have two normally distributed curves if the outliers were removed."
   ]
  },
  {
   "cell_type": "markdown",
   "id": "2e279e0f",
   "metadata": {},
   "source": [
    "### 3. Bivariate Stats\n",
    "\n",
    "* Visualize each measurement type (y-axis) with the species variable (x-axis) using barplots, adding a horizontal line showing the overall mean of the metric (y-axis).\n",
    "\n",
    "* For each measurement type, compute the descriptive statistics for each species.\n",
    "\n",
    "* For virginica & versicolor: Compare the mean petal_width using the Mann-Whitney test (scipy.stats.mannwhitneyu) to see if there is a significant difference between the two groups. Do the same for the other measurement types.\n",
    "\n",
    "* Document takeaways & any actions."
   ]
  },
  {
   "cell_type": "markdown",
   "id": "b6b7888b",
   "metadata": {},
   "source": [
    "### Question before exploring the data:\n",
    "#### Do the different species have distinct sepal/petal length and width?"
   ]
  },
  {
   "cell_type": "code",
   "execution_count": 49,
   "id": "42ba3d7b",
   "metadata": {},
   "outputs": [
    {
     "data": {
      "image/png": "[encoded data removed]",
      "text/plain": [
       "<Figure size 432x288 with 1 Axes>"
      ]
     },
     "metadata": {
      "needs_background": "light"
     },
     "output_type": "display_data"
    }
   ],
   "source": [
    "plt.title(\"Virginica Has The Highest Average Sepal Length\")\n",
    "sns.barplot(x=\"species\", y=\"sepal_length\", data=train)\n",
    "mean_sepal_length = train.sepal_length.mean()\n",
    "plt.axhline(mean_sepal_length, label=\"Average Sepal Length\", color='blue', linestyle='dotted')\n",
    "plt.legend()\n",
    "plt.show()"
   ]
  },
  {
   "cell_type": "code",
   "execution_count": 51,
   "id": "aea284ac",
   "metadata": {},
   "outputs": [
    {
     "data": {
      "image/png": "[encoded data removed]",
      "text/plain": [
       "<Figure size 432x288 with 1 Axes>"
      ]
     },
     "metadata": {
      "needs_background": "light"
     },
     "output_type": "display_data"
    }
   ],
   "source": [
    "plt.title(\"Setosa Has The Highest Average Sepal Width\")\n",
    "sns.barplot(x=\"species\", y=\"sepal_width\", data=train)\n",
    "mean_sepal_width = train.sepal_width.mean()\n",
    "plt.axhline(mean_sepal_width, label=\"Average Sepal Width\", color='blue', linestyle='dotted')\n",
    "plt.legend()\n",
    "plt.show()"
   ]
  },
  {
   "cell_type": "code",
   "execution_count": 48,
   "id": "ca13f4f8",
   "metadata": {},
   "outputs": [
    {
     "data": {
      "image/png": "[encoded data removed]",
      "text/plain": [
       "<Figure size 432x288 with 1 Axes>"
      ]
     },
     "metadata": {
      "needs_background": "light"
     },
     "output_type": "display_data"
    }
   ],
   "source": [
    "plt.title(\"Virginica Has The Highest Average Petal Length\")\n",
    "sns.barplot(x=\"species\", y=\"petal_length\", data=train)\n",
    "avg_petal_length = train.petal_length.mean()\n",
    "plt.axhline(avg_petal_length, label=\"Average Petal Length\", color='blue',linestyle='dotted')\n",
    "plt.legend()\n",
    "plt.show()"
   ]
  },
  {
   "cell_type": "code",
   "execution_count": 52,
   "id": "7a5a1e76",
   "metadata": {},
   "outputs": [
    {
     "data": {
      "image/png": "[encoded data removed]",
      "text/plain": [
       "<Figure size 432x288 with 1 Axes>"
      ]
     },
     "metadata": {
      "needs_background": "light"
     },
     "output_type": "display_data"
    }
   ],
   "source": [
    "plt.title(\"Virginica Has The Highest Average Petal Width\")\n",
    "sns.barplot(x=\"species\", y=\"petal_width\", data=train)\n",
    "avg_petal_width = train.petal_width.mean()\n",
    "plt.axhline(avg_petal_width, label=\"Average Petal Width\")\n",
    "plt.legend()\n",
    "plt.show()"
   ]
  },
  {
   "cell_type": "code",
   "execution_count": 58,
   "id": "2c5fda51",
   "metadata": {},
   "outputs": [],
   "source": [
    "versicolor_describe_sepal_length = pd.DataFrame(train[train.species == 'versicolor'].sepal_length).describe()\n",
    "versicolor_describe_sepal_width = pd.DataFrame(train[train.species == 'versicolor'].sepal_width).describe()\n",
    "versicolor_describe_petal_length = pd.DataFrame(train[train.species == 'versicolor'].petal_length).describe()\n",
    "versicolor_describe_petal_width = pd.DataFrame(train[train.species == 'versicolor'].petal_width).describe()"
   ]
  },
  {
   "cell_type": "code",
   "execution_count": 65,
   "id": "a23006cb",
   "metadata": {},
   "outputs": [],
   "source": [
    "versicolor_describe = pd.concat([versicolor_describe_sepal_length, versicolor_describe_sepal_width], axis = 1)\n",
    "versicolor_describe = pd.concat([versicolor_describe, versicolor_describe_petal_length], axis=1)\n",
    "versicolor_describe = pd.concat([versicolor_describe, versicolor_describe_petal_width], axis=1)"
   ]
  },
  {
   "cell_type": "code",
   "execution_count": 66,
   "id": "0f9d1afe",
   "metadata": {},
   "outputs": [
    {
     "data": {
      "text/html": [
       "<div>\n",
       "<style scoped>\n",
       "    .dataframe tbody tr th:only-of-type {\n",
       "        vertical-align: middle;\n",
       "    }\n",
       "\n",
       "    .dataframe tbody tr th {\n",
       "        vertical-align: top;\n",
       "    }\n",
       "\n",
       "    .dataframe thead th {\n",
       "        text-align: right;\n",
       "    }\n",
       "</style>\n",
       "<table border=\"1\" class=\"dataframe\">\n",
       "  <thead>\n",
       "    <tr style=\"text-align: right;\">\n",
       "      <th></th>\n",
       "      <th>sepal_length</th>\n",
       "      <th>sepal_width</th>\n",
       "      <th>petal_length</th>\n",
       "      <th>petal_width</th>\n",
       "    </tr>\n",
       "  </thead>\n",
       "  <tbody>\n",
       "    <tr>\n",
       "      <th>count</th>\n",
       "      <td>31.000000</td>\n",
       "      <td>31.000000</td>\n",
       "      <td>31.000000</td>\n",
       "      <td>31.000000</td>\n",
       "    </tr>\n",
       "    <tr>\n",
       "      <th>mean</th>\n",
       "      <td>5.938710</td>\n",
       "      <td>2.787097</td>\n",
       "      <td>4.232258</td>\n",
       "      <td>1.322581</td>\n",
       "    </tr>\n",
       "    <tr>\n",
       "      <th>std</th>\n",
       "      <td>0.531462</td>\n",
       "      <td>0.336395</td>\n",
       "      <td>0.505560</td>\n",
       "      <td>0.210887</td>\n",
       "    </tr>\n",
       "    <tr>\n",
       "      <th>min</th>\n",
       "      <td>4.900000</td>\n",
       "      <td>2.000000</td>\n",
       "      <td>3.000000</td>\n",
       "      <td>1.000000</td>\n",
       "    </tr>\n",
       "    <tr>\n",
       "      <th>25%</th>\n",
       "      <td>5.550000</td>\n",
       "      <td>2.550000</td>\n",
       "      <td>4.000000</td>\n",
       "      <td>1.200000</td>\n",
       "    </tr>\n",
       "    <tr>\n",
       "      <th>50%</th>\n",
       "      <td>5.900000</td>\n",
       "      <td>2.800000</td>\n",
       "      <td>4.300000</td>\n",
       "      <td>1.300000</td>\n",
       "    </tr>\n",
       "    <tr>\n",
       "      <th>75%</th>\n",
       "      <td>6.250000</td>\n",
       "      <td>3.000000</td>\n",
       "      <td>4.550000</td>\n",
       "      <td>1.500000</td>\n",
       "    </tr>\n",
       "    <tr>\n",
       "      <th>max</th>\n",
       "      <td>7.000000</td>\n",
       "      <td>3.400000</td>\n",
       "      <td>5.100000</td>\n",
       "      <td>1.800000</td>\n",
       "    </tr>\n",
       "  </tbody>\n",
       "</table>\n",
       "</div>"
      ],
      "text/plain": [
       "       sepal_length  sepal_width  petal_length  petal_width\n",
       "count     31.000000    31.000000     31.000000    31.000000\n",
       "mean       5.938710     2.787097      4.232258     1.322581\n",
       "std        0.531462     0.336395      0.505560     0.210887\n",
       "min        4.900000     2.000000      3.000000     1.000000\n",
       "25%        5.550000     2.550000      4.000000     1.200000\n",
       "50%        5.900000     2.800000      4.300000     1.300000\n",
       "75%        6.250000     3.000000      4.550000     1.500000\n",
       "max        7.000000     3.400000      5.100000     1.800000"
      ]
     },
     "execution_count": 66,
     "metadata": {},
     "output_type": "execute_result"
    }
   ],
   "source": [
    "versicolor_describe"
   ]
  },
  {
   "cell_type": "code",
   "execution_count": 67,
   "id": "f5c5b0be",
   "metadata": {},
   "outputs": [],
   "source": [
    "setosa_describe_sepal_length = pd.DataFrame(train[train.species == 'setosa'].sepal_length).describe()\n",
    "setosa_describe_sepal_width = pd.DataFrame(train[train.species == 'setosa'].sepal_width).describe()\n",
    "setosa_describe_petal_length = pd.DataFrame(train[train.species == 'setosa'].petal_length).describe()\n",
    "setosa_describe_petal_width = pd.DataFrame(train[train.species == 'setosa'].petal_width).describe()\n",
    "\n",
    "setosa_describe = pd.concat([setosa_describe_sepal_length, setosa_describe_sepal_width], axis = 1)\n",
    "setosa_describe = pd.concat([setosa_describe, setosa_describe_petal_length], axis=1)\n",
    "setosa_describe = pd.concat([setosa_describe, setosa_describe_petal_width], axis=1)"
   ]
  },
  {
   "cell_type": "code",
   "execution_count": 68,
   "id": "dad89a52",
   "metadata": {},
   "outputs": [
    {
     "data": {
      "text/html": [
       "<div>\n",
       "<style scoped>\n",
       "    .dataframe tbody tr th:only-of-type {\n",
       "        vertical-align: middle;\n",
       "    }\n",
       "\n",
       "    .dataframe tbody tr th {\n",
       "        vertical-align: top;\n",
       "    }\n",
       "\n",
       "    .dataframe thead th {\n",
       "        text-align: right;\n",
       "    }\n",
       "</style>\n",
       "<table border=\"1\" class=\"dataframe\">\n",
       "  <thead>\n",
       "    <tr style=\"text-align: right;\">\n",
       "      <th></th>\n",
       "      <th>sepal_length</th>\n",
       "      <th>sepal_width</th>\n",
       "      <th>petal_length</th>\n",
       "      <th>petal_width</th>\n",
       "    </tr>\n",
       "  </thead>\n",
       "  <tbody>\n",
       "    <tr>\n",
       "      <th>count</th>\n",
       "      <td>26.000000</td>\n",
       "      <td>26.000000</td>\n",
       "      <td>26.000000</td>\n",
       "      <td>26.000000</td>\n",
       "    </tr>\n",
       "    <tr>\n",
       "      <th>mean</th>\n",
       "      <td>5.011538</td>\n",
       "      <td>3.396154</td>\n",
       "      <td>1.480769</td>\n",
       "      <td>0.261538</td>\n",
       "    </tr>\n",
       "    <tr>\n",
       "      <th>std</th>\n",
       "      <td>0.326591</td>\n",
       "      <td>0.364945</td>\n",
       "      <td>0.191873</td>\n",
       "      <td>0.116883</td>\n",
       "    </tr>\n",
       "    <tr>\n",
       "      <th>min</th>\n",
       "      <td>4.500000</td>\n",
       "      <td>2.300000</td>\n",
       "      <td>1.000000</td>\n",
       "      <td>0.100000</td>\n",
       "    </tr>\n",
       "    <tr>\n",
       "      <th>25%</th>\n",
       "      <td>4.800000</td>\n",
       "      <td>3.200000</td>\n",
       "      <td>1.400000</td>\n",
       "      <td>0.200000</td>\n",
       "    </tr>\n",
       "    <tr>\n",
       "      <th>50%</th>\n",
       "      <td>5.000000</td>\n",
       "      <td>3.450000</td>\n",
       "      <td>1.500000</td>\n",
       "      <td>0.200000</td>\n",
       "    </tr>\n",
       "    <tr>\n",
       "      <th>75%</th>\n",
       "      <td>5.100000</td>\n",
       "      <td>3.675000</td>\n",
       "      <td>1.600000</td>\n",
       "      <td>0.300000</td>\n",
       "    </tr>\n",
       "    <tr>\n",
       "      <th>max</th>\n",
       "      <td>5.800000</td>\n",
       "      <td>4.000000</td>\n",
       "      <td>1.900000</td>\n",
       "      <td>0.600000</td>\n",
       "    </tr>\n",
       "  </tbody>\n",
       "</table>\n",
       "</div>"
      ],
      "text/plain": [
       "       sepal_length  sepal_width  petal_length  petal_width\n",
       "count     26.000000    26.000000     26.000000    26.000000\n",
       "mean       5.011538     3.396154      1.480769     0.261538\n",
       "std        0.326591     0.364945      0.191873     0.116883\n",
       "min        4.500000     2.300000      1.000000     0.100000\n",
       "25%        4.800000     3.200000      1.400000     0.200000\n",
       "50%        5.000000     3.450000      1.500000     0.200000\n",
       "75%        5.100000     3.675000      1.600000     0.300000\n",
       "max        5.800000     4.000000      1.900000     0.600000"
      ]
     },
     "execution_count": 68,
     "metadata": {},
     "output_type": "execute_result"
    }
   ],
   "source": [
    "setosa_describe"
   ]
  },
  {
   "cell_type": "code",
   "execution_count": 69,
   "id": "27dc05c3",
   "metadata": {},
   "outputs": [],
   "source": [
    "virginica_describe_sepal_length = pd.DataFrame(train[train.species == 'virginica'].sepal_length).describe()\n",
    "virginica_describe_sepal_width = pd.DataFrame(train[train.species == 'virginica'].sepal_width).describe()\n",
    "virginica_describe_petal_length = pd.DataFrame(train[train.species == 'virginica'].petal_length).describe()\n",
    "virginica_describe_petal_width = pd.DataFrame(train[train.species == 'virginica'].petal_width).describe()\n",
    "\n",
    "virginica_describe = pd.concat([virginica_describe_sepal_length, virginica_describe_sepal_width], axis = 1)\n",
    "virginica_describe = pd.concat([virginica_describe, virginica_describe_petal_length], axis=1)\n",
    "virginica_describe = pd.concat([virginica_describe, virginica_describe_petal_width], axis=1)"
   ]
  },
  {
   "cell_type": "code",
   "execution_count": 70,
   "id": "6f6862c6",
   "metadata": {},
   "outputs": [
    {
     "data": {
      "text/html": [
       "<div>\n",
       "<style scoped>\n",
       "    .dataframe tbody tr th:only-of-type {\n",
       "        vertical-align: middle;\n",
       "    }\n",
       "\n",
       "    .dataframe tbody tr th {\n",
       "        vertical-align: top;\n",
       "    }\n",
       "\n",
       "    .dataframe thead th {\n",
       "        text-align: right;\n",
       "    }\n",
       "</style>\n",
       "<table border=\"1\" class=\"dataframe\">\n",
       "  <thead>\n",
       "    <tr style=\"text-align: right;\">\n",
       "      <th></th>\n",
       "      <th>sepal_length</th>\n",
       "      <th>sepal_width</th>\n",
       "      <th>petal_length</th>\n",
       "      <th>petal_width</th>\n",
       "    </tr>\n",
       "  </thead>\n",
       "  <tbody>\n",
       "    <tr>\n",
       "      <th>count</th>\n",
       "      <td>27.000000</td>\n",
       "      <td>27.000000</td>\n",
       "      <td>27.000000</td>\n",
       "      <td>27.000000</td>\n",
       "    </tr>\n",
       "    <tr>\n",
       "      <th>mean</th>\n",
       "      <td>6.529630</td>\n",
       "      <td>2.951852</td>\n",
       "      <td>5.551852</td>\n",
       "      <td>2.000000</td>\n",
       "    </tr>\n",
       "    <tr>\n",
       "      <th>std</th>\n",
       "      <td>0.700996</td>\n",
       "      <td>0.340102</td>\n",
       "      <td>0.558411</td>\n",
       "      <td>0.292206</td>\n",
       "    </tr>\n",
       "    <tr>\n",
       "      <th>min</th>\n",
       "      <td>4.900000</td>\n",
       "      <td>2.200000</td>\n",
       "      <td>4.500000</td>\n",
       "      <td>1.400000</td>\n",
       "    </tr>\n",
       "    <tr>\n",
       "      <th>25%</th>\n",
       "      <td>6.050000</td>\n",
       "      <td>2.750000</td>\n",
       "      <td>5.100000</td>\n",
       "      <td>1.800000</td>\n",
       "    </tr>\n",
       "    <tr>\n",
       "      <th>50%</th>\n",
       "      <td>6.400000</td>\n",
       "      <td>3.000000</td>\n",
       "      <td>5.600000</td>\n",
       "      <td>2.000000</td>\n",
       "    </tr>\n",
       "    <tr>\n",
       "      <th>75%</th>\n",
       "      <td>7.000000</td>\n",
       "      <td>3.200000</td>\n",
       "      <td>5.900000</td>\n",
       "      <td>2.200000</td>\n",
       "    </tr>\n",
       "    <tr>\n",
       "      <th>max</th>\n",
       "      <td>7.900000</td>\n",
       "      <td>3.800000</td>\n",
       "      <td>6.700000</td>\n",
       "      <td>2.500000</td>\n",
       "    </tr>\n",
       "  </tbody>\n",
       "</table>\n",
       "</div>"
      ],
      "text/plain": [
       "       sepal_length  sepal_width  petal_length  petal_width\n",
       "count     27.000000    27.000000     27.000000    27.000000\n",
       "mean       6.529630     2.951852      5.551852     2.000000\n",
       "std        0.700996     0.340102      0.558411     0.292206\n",
       "min        4.900000     2.200000      4.500000     1.400000\n",
       "25%        6.050000     2.750000      5.100000     1.800000\n",
       "50%        6.400000     3.000000      5.600000     2.000000\n",
       "75%        7.000000     3.200000      5.900000     2.200000\n",
       "max        7.900000     3.800000      6.700000     2.500000"
      ]
     },
     "execution_count": 70,
     "metadata": {},
     "output_type": "execute_result"
    }
   ],
   "source": [
    "virginica_describe"
   ]
  },
  {
   "cell_type": "markdown",
   "id": "03166b24",
   "metadata": {},
   "source": [
    "#### * For virginica & versicolor: Compare the mean petal_width using the Mann-Whitney test (scipy.stats.mannwhitneyu) to see if there is a significant difference between the two groups. Do the same for the other measurement types.\n"
   ]
  },
  {
   "cell_type": "code",
   "execution_count": 75,
   "id": "bac9c64a",
   "metadata": {},
   "outputs": [],
   "source": [
    "versicolor = train[train.species == 'versicolor']\n",
    "setosa = train[train.species == 'setosa']\n",
    "virginica = train[train.species == 'virginica']"
   ]
  },
  {
   "cell_type": "code",
   "execution_count": 79,
   "id": "1650fedd",
   "metadata": {},
   "outputs": [],
   "source": [
    "t,p = stats.mannwhitneyu(virginica.petal_width, versicolor.petal_width, alternative='greater')"
   ]
  },
  {
   "cell_type": "code",
   "execution_count": 82,
   "id": "8c4fd21e",
   "metadata": {},
   "outputs": [
    {
     "data": {
      "text/plain": [
       "(812.5, 3.688979419080088e-10)"
      ]
     },
     "execution_count": 82,
     "metadata": {},
     "output_type": "execute_result"
    }
   ],
   "source": [
    "t, p"
   ]
  },
  {
   "cell_type": "code",
   "execution_count": 83,
   "id": "ef6457fc",
   "metadata": {},
   "outputs": [
    {
     "name": "stdout",
     "output_type": "stream",
     "text": [
      "Comparing sepal_length between virginica and versicolor\n",
      "630.0 0.0004942698168315015\n",
      "------------------\n",
      "\n",
      "\n",
      "Comparing sepal_width between virginica and versicolor\n",
      "527.0 0.0453504274899544\n",
      "------------------\n",
      "\n",
      "\n",
      "Comparing petal_length between virginica and versicolor\n",
      "817.5 2.425293616303908e-10\n",
      "------------------\n",
      "\n",
      "\n",
      "Comparing petal_width between virginica and versicolor\n",
      "812.5 3.688979419080088e-10\n",
      "------------------\n",
      "\n",
      "\n"
     ]
    }
   ],
   "source": [
    "test_var = ['sepal_length', 'sepal_width', 'petal_length', 'petal_width']\n",
    "for var in test_var:\n",
    "    t, p = t, p = stats.mannwhitneyu(virginica[var], versicolor[var], alternative=\"greater\")\n",
    "    print(f'Comparing {var} between virginica and versicolor')\n",
    "    print(t, p)\n",
    "    print('------------------')\n",
    "    print('\\n')"
   ]
  },
  {
   "cell_type": "markdown",
   "id": "7577091d",
   "metadata": {},
   "source": [
    "### Takeaways\n",
    "\n",
    "* Setosas have wide, but short sepals.\n",
    "* Virginica has the longest and widest petals.\n",
    "* Could area be a good classification feature?"
   ]
  },
  {
   "cell_type": "markdown",
   "id": "f77922bf",
   "metadata": {},
   "source": [
    "### 4. Multivariate Stats\n",
    "\n",
    "* Visualize the interaction of each measurement type with the others using a pairplot (or scatter matrix or something similar) and add color to represent species.\n",
    "\n",
    "* Visualize two numeric variables by means of the species. Hint: sns.relplot with hue or col\n",
    "\n",
    "* Create a swarmplot using a melted dataframe of all your numeric variables. The x-axis should be the variable name, the y-axis the measure. Add another dimension using color to represent species. Document takeaways from this visualization.\n",
    "\n",
    "* Ask a specific question of the data, such as: is the sepal area signficantly different in virginica compared to setosa? Answer the question through both a plot and using a mann-whitney or t-test. If you use a t-test, be sure assumptions are met (independence, normality, equal variance).\n",
    "\n",
    "* Document takeaways and any actions."
   ]
  },
  {
   "cell_type": "code",
   "execution_count": 85,
   "id": "63006f6f",
   "metadata": {},
   "outputs": [
    {
     "data": {
      "image/png": "[encoded data removed]",
      "text/plain": [
       "<Figure size 432x288 with 1 Axes>"
      ]
     },
     "metadata": {
      "needs_background": "light"
     },
     "output_type": "display_data"
    }
   ],
   "source": [
    "# Let's visualize a multivariate analysis\n",
    "plt.title(\"Checkin It Out\")\n",
    "sns.boxplot(x=\"species\", y=\"sepal_length\", data=train, hue=\"species\")\n",
    "plt.show()"
   ]
  },
  {
   "cell_type": "code",
   "execution_count": null,
   "id": "e9358c31",
   "metadata": {},
   "outputs": [],
   "source": []
  }
 ],
 "metadata": {
  "kernelspec": {
   "display_name": "Python 3 (ipykernel)",
   "language": "python",
   "name": "python3"
  },
  "language_info": {
   "codemirror_mode": {
    "name": "ipython",
    "version": 3
   },
   "file_extension": ".py",
   "mimetype": "text/x-python",
   "name": "python",
   "nbconvert_exporter": "python",
   "pygments_lexer": "ipython3",
   "version": "3.8.8"
  }
 },
 "nbformat": 4,
 "nbformat_minor": 5
}
