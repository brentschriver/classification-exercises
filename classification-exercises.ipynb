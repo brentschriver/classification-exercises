{
 "cells": [
  {
   "cell_type": "code",
   "execution_count": null,
   "id": "c6c708d2",
   "metadata": {},
   "outputs": [],
   "source": [
    "import env\n",
    "import pandas as pd\n",
    "import pydataset as data\n",
    "import numpy as np\n",
    "import matplotlib.pyplot as plt\n",
    "\n",
    "import seaborn as sns"
   ]
  },
  {
   "cell_type": "markdown",
   "id": "b561354b",
   "metadata": {},
   "source": [
    "### 4. In a jupyter notebook, classification_exercises.ipynb, use a python module (pydata or seaborn datasets) containing datasets as a source from the iris data. Create a pandas dataframe, df_iris, from this data."
   ]
  },
  {
   "cell_type": "code",
   "execution_count": null,
   "id": "88f16528",
   "metadata": {},
   "outputs": [],
   "source": [
    "df_iris = sns.load_dataset('iris')\n",
    "type(df_iris)"
   ]
  },
  {
   "cell_type": "markdown",
   "id": "cbda90cf",
   "metadata": {},
   "source": [
    "#### Print the first three rows."
   ]
  },
  {
   "cell_type": "code",
   "execution_count": null,
   "id": "c49a5bac",
   "metadata": {},
   "outputs": [],
   "source": [
    "df_iris.head(3)"
   ]
  },
  {
   "cell_type": "markdown",
   "id": "35780c7d",
   "metadata": {},
   "source": [
    "#### Print the number of rows and columns (shape)"
   ]
  },
  {
   "cell_type": "code",
   "execution_count": null,
   "id": "515fba44",
   "metadata": {},
   "outputs": [],
   "source": [
    "df_iris.shape"
   ]
  },
  {
   "cell_type": "markdown",
   "id": "78dc8fd2",
   "metadata": {},
   "source": [
    "#### Print the column names"
   ]
  },
  {
   "cell_type": "code",
   "execution_count": null,
   "id": "158b4b3d",
   "metadata": {},
   "outputs": [],
   "source": [
    "df_iris.columns"
   ]
  },
  {
   "cell_type": "markdown",
   "id": "4b91ab9d",
   "metadata": {},
   "source": [
    "#### Print the data type of each column"
   ]
  },
  {
   "cell_type": "code",
   "execution_count": null,
   "id": "d660551d",
   "metadata": {},
   "outputs": [],
   "source": [
    "df_iris.dtypes"
   ]
  },
  {
   "cell_type": "markdown",
   "id": "b537435b",
   "metadata": {},
   "source": [
    "#### Print the summary statistics for each of the numeric variables. Would you recommend rescaling the data based on these statistics?"
   ]
  },
  {
   "cell_type": "code",
   "execution_count": null,
   "id": "3ceec2da",
   "metadata": {},
   "outputs": [],
   "source": [
    "df_iris.describe()"
   ]
  },
  {
   "cell_type": "markdown",
   "id": "d66286bb",
   "metadata": {},
   "source": [
    "### 5. Read the Table1_CustDetails table from the Excel_Exercises.xlsx file into a dataframe named df_excel."
   ]
  },
  {
   "cell_type": "code",
   "execution_count": null,
   "id": "2931f268",
   "metadata": {},
   "outputs": [],
   "source": [
    "df_excel = pd.read_excel('Excel_Exercises.xlsx')"
   ]
  },
  {
   "cell_type": "code",
   "execution_count": null,
   "id": "fe08cca5",
   "metadata": {},
   "outputs": [],
   "source": [
    "type(df_excel)"
   ]
  },
  {
   "cell_type": "markdown",
   "id": "c93b310f",
   "metadata": {},
   "source": [
    "#### Assign the first 100 rows to a new dataframe, df_excel_sample"
   ]
  },
  {
   "cell_type": "code",
   "execution_count": null,
   "id": "6dfe2127",
   "metadata": {},
   "outputs": [],
   "source": [
    "df_excel_sample = df_excel.head(100)"
   ]
  },
  {
   "cell_type": "markdown",
   "id": "475c9ca0",
   "metadata": {},
   "source": [
    "#### Print the number of rows of your original dataframe"
   ]
  },
  {
   "cell_type": "code",
   "execution_count": null,
   "id": "0cb73304",
   "metadata": {},
   "outputs": [],
   "source": [
    "len(df_excel)"
   ]
  },
  {
   "cell_type": "markdown",
   "id": "1bd2e49f",
   "metadata": {},
   "source": [
    "#### Print the first 5 column names"
   ]
  },
  {
   "cell_type": "code",
   "execution_count": null,
   "id": "bd32427b",
   "metadata": {},
   "outputs": [],
   "source": [
    "df_excel.columns[:5]"
   ]
  },
  {
   "cell_type": "markdown",
   "id": "f2cd2fa7",
   "metadata": {},
   "source": [
    "#### Print the column names that have a data type of object"
   ]
  },
  {
   "cell_type": "code",
   "execution_count": null,
   "id": "a426a0f1",
   "metadata": {},
   "outputs": [],
   "source": [
    "df_excel.dtypes"
   ]
  },
  {
   "cell_type": "code",
   "execution_count": null,
   "id": "b6d8f084",
   "metadata": {},
   "outputs": [],
   "source": [
    "df_excel.select_dtypes(include='object').columns"
   ]
  },
  {
   "cell_type": "markdown",
   "id": "4817263d",
   "metadata": {},
   "source": [
    "#### Compute the range for each of the numeric variables."
   ]
  },
  {
   "cell_type": "code",
   "execution_count": null,
   "id": "e03a65f2",
   "metadata": {},
   "outputs": [],
   "source": [
    "range = df_excel.select_dtypes(exclude='object').max() - df_excel.select_dtypes(exclude='object').min()"
   ]
  },
  {
   "cell_type": "code",
   "execution_count": null,
   "id": "b4826d52",
   "metadata": {},
   "outputs": [],
   "source": [
    "range"
   ]
  },
  {
   "cell_type": "markdown",
   "id": "29cfab8f",
   "metadata": {},
   "source": [
    "### 6. Read the data from this google sheet into a dataframe, df_google"
   ]
  },
  {
   "cell_type": "markdown",
   "id": "ae2322a6",
   "metadata": {},
   "source": []
  },
  {
   "cell_type": "code",
   "execution_count": null,
   "id": "c364013e",
   "metadata": {},
   "outputs": [],
   "source": [
    "sheet_url = 'https://docs.google.com/spreadsheets/d/1Uhtml8KY19LILuZsrDtlsHHDC9wuDGUSe8LTEwvdI5g/edit#gid=341089357'\n",
    "\n",
    "csv_export_url = sheet_url.replace('/edit#gid=', '/export?format=csv&gid=')\n",
    "\n",
    "df_google = pd.read_csv(csv_export_url)"
   ]
  },
  {
   "cell_type": "markdown",
   "id": "230de3ab",
   "metadata": {},
   "source": [
    "#### Print the first 3 rows"
   ]
  },
  {
   "cell_type": "code",
   "execution_count": null,
   "id": "10f75bb4",
   "metadata": {},
   "outputs": [],
   "source": [
    "df_google.head(3)"
   ]
  },
  {
   "cell_type": "markdown",
   "id": "8bb38b9a",
   "metadata": {},
   "source": [
    "#### Print the number of rows and columns"
   ]
  },
  {
   "cell_type": "code",
   "execution_count": null,
   "id": "4c673f52",
   "metadata": {},
   "outputs": [],
   "source": [
    "df_google.shape"
   ]
  },
  {
   "cell_type": "markdown",
   "id": "5a3cd8ea",
   "metadata": {},
   "source": [
    "#### Print the column names"
   ]
  },
  {
   "cell_type": "code",
   "execution_count": null,
   "id": "34ee3fe8",
   "metadata": {},
   "outputs": [],
   "source": [
    "df_google.columns"
   ]
  },
  {
   "cell_type": "markdown",
   "id": "a5035a8c",
   "metadata": {},
   "source": [
    "#### Print the data type of each column"
   ]
  },
  {
   "cell_type": "code",
   "execution_count": null,
   "id": "2354a9d8",
   "metadata": {},
   "outputs": [],
   "source": [
    "df_google.dtypes"
   ]
  },
  {
   "cell_type": "markdown",
   "id": "498d4373",
   "metadata": {},
   "source": [
    "#### Print the summary statistics for each of the numeric variables"
   ]
  },
  {
   "cell_type": "code",
   "execution_count": null,
   "id": "c0149e0f",
   "metadata": {},
   "outputs": [],
   "source": [
    "df_google.describe()"
   ]
  },
  {
   "cell_type": "markdown",
   "id": "859bf6a2",
   "metadata": {},
   "source": [
    "#### Print the unique values for each of your categorical variables"
   ]
  },
  {
   "cell_type": "code",
   "execution_count": null,
   "id": "9a164406",
   "metadata": {},
   "outputs": [],
   "source": [
    "df_google_objects = df_google.select_dtypes(include='object')\n",
    "df_google_objects"
   ]
  },
  {
   "cell_type": "code",
   "execution_count": null,
   "id": "219f4770",
   "metadata": {},
   "outputs": [],
   "source": [
    "for col in df_google_objects.columns:\n",
    "    if df_google_objects[col].dtypes == 'object':\n",
    "        print(f'{col} has {df_google_objects[col].nunique()} unique values.')"
   ]
  },
  {
   "cell_type": "code",
   "execution_count": 1,
   "id": "71d4b7e9",
   "metadata": {},
   "outputs": [],
   "source": [
    "import pandas as pd\n",
    "import numpy as np\n",
    "import matplotlib.pyplot as plt\n",
    "\n",
    "# import splitting and imputing functions\n",
    "from sklearn.model_selection import train_test_split\n",
    "from sklearn.impute import SimpleImputer\n",
    "\n",
    "# turn off pink boxes for demo\n",
    "import warnings\n",
    "warnings.filterwarnings(\"ignore\")\n",
    "\n",
    "# import our own acquire module\n",
    "import acquire"
   ]
  },
  {
   "cell_type": "markdown",
   "id": "09c0d5db",
   "metadata": {},
   "source": [
    "## Data Prep Exercises"
   ]
  },
  {
   "cell_type": "markdown",
   "id": "2ae6bce0",
   "metadata": {},
   "source": [
    "### Using the Iris Data:\n",
    "\n",
    "#### 1. Use the function defined in acquire.py to load the iris data.\n",
    "#### 2. Drop the species_id and measurement_id columns.\n",
    "#### 3. Rename the species_name column to just species.\n",
    "#### 4. Create dummy variables of the species name and concatenate onto the iris dataframe.\n",
    "#### 5. Create a function named prep_iris that accepts the untransformed iris data, and returns the data with the transformations above applied.\n",
    "___________________________________________________________________________________________________\n",
    "- - - - - - - -"
   ]
  },
  {
   "cell_type": "markdown",
   "id": "80052246",
   "metadata": {},
   "source": [
    "#### 1. Use the function defined in acquire.py to load the iris data."
   ]
  },
  {
   "cell_type": "code",
   "execution_count": null,
   "id": "4d520a18",
   "metadata": {},
   "outputs": [],
   "source": [
    "iris_df = acquire.get_iris_data()"
   ]
  },
  {
   "cell_type": "code",
   "execution_count": null,
   "id": "ad5034a2",
   "metadata": {},
   "outputs": [],
   "source": [
    "iris_df.info()"
   ]
  },
  {
   "cell_type": "markdown",
   "id": "049328f9",
   "metadata": {},
   "source": [
    "#### 2. Drop the species_id and measurement_id columns"
   ]
  },
  {
   "cell_type": "code",
   "execution_count": null,
   "id": "5d718e09",
   "metadata": {},
   "outputs": [],
   "source": [
    "\n",
    "# Drop columns with too many missing values for now and reassign; check the shape of my data.\n",
    "cols_to_drop = ['species_id']\n",
    "iris_df = iris_df.drop(columns=cols_to_drop)\n"
   ]
  },
  {
   "cell_type": "code",
   "execution_count": null,
   "id": "90ac0a52",
   "metadata": {},
   "outputs": [],
   "source": [
    "iris_df.shape"
   ]
  },
  {
   "cell_type": "code",
   "execution_count": null,
   "id": "4a3de2b1",
   "metadata": {},
   "outputs": [],
   "source": [
    "iris_df.head()"
   ]
  },
  {
   "cell_type": "markdown",
   "id": "2f414f22",
   "metadata": {},
   "source": [
    "#### 3. Rename the species_name column to just species."
   ]
  },
  {
   "cell_type": "code",
   "execution_count": null,
   "id": "dfab4d48",
   "metadata": {},
   "outputs": [],
   "source": [
    "iris_df.rename(columns={'species_name': 'species'}, inplace=True)"
   ]
  },
  {
   "cell_type": "code",
   "execution_count": null,
   "id": "3c11fd51",
   "metadata": {},
   "outputs": [],
   "source": [
    "iris_df.head()"
   ]
  },
  {
   "cell_type": "markdown",
   "id": "81cab56e",
   "metadata": {},
   "source": [
    "#### 4. Create dummy variables of the species name and concatenate onto the iris dataframe.\n",
    "\n"
   ]
  },
  {
   "cell_type": "code",
   "execution_count": null,
   "id": "812ebc41",
   "metadata": {},
   "outputs": [],
   "source": [
    "dummy_species = pd.get_dummies(iris_df['species'], dummy_na=False, drop_first=[True, True])"
   ]
  },
  {
   "cell_type": "code",
   "execution_count": null,
   "id": "29c1bd9b",
   "metadata": {},
   "outputs": [],
   "source": [
    "dummy_species"
   ]
  },
  {
   "cell_type": "code",
   "execution_count": null,
   "id": "4d02dece",
   "metadata": {},
   "outputs": [],
   "source": [
    "iris_df = pd.concat([iris_df, dummy_species], axis=1)"
   ]
  },
  {
   "cell_type": "code",
   "execution_count": null,
   "id": "e9079661",
   "metadata": {},
   "outputs": [],
   "source": [
    "iris_df.head()"
   ]
  },
  {
   "cell_type": "markdown",
   "id": "99669e03",
   "metadata": {},
   "source": [
    "#### 5. Create a function named prep_iris that accepts the untransformed iris data, and returns the data with the transformations above applied."
   ]
  },
  {
   "cell_type": "code",
   "execution_count": null,
   "id": "080ab9e3",
   "metadata": {},
   "outputs": [],
   "source": [
    "def prep_iris(df):\n",
    "    cols_to_drop = ['species_id']\n",
    "    iris_df = df.drop(columns=cols_to_drop)\n",
    "    iris_df.rename(columns={'species_name': 'species'}, inplace=True)\n",
    "    dummy_species = pd.get_dummies(iris_df['species'], dummy_na=False, drop_first=[True, True])\n",
    "    iris_df = pd.concat([iris_df, dummy_species], axis=1)\n",
    "    return iris_df"
   ]
  },
  {
   "cell_type": "code",
   "execution_count": null,
   "id": "f28bb835",
   "metadata": {},
   "outputs": [],
   "source": [
    "prep_iris(iris_df)"
   ]
  },
  {
   "cell_type": "markdown",
   "id": "2c4a6c14",
   "metadata": {},
   "source": [
    "### Using the Titanic dataset\n",
    "\n",
    "#### 1. Use the function defined in acquire.py to load the Titanic data."
   ]
  },
  {
   "cell_type": "code",
   "execution_count": null,
   "id": "5a025d33",
   "metadata": {},
   "outputs": [],
   "source": [
    "titanic_df = acquire.get_titanic_data()"
   ]
  },
  {
   "cell_type": "code",
   "execution_count": null,
   "id": "834b4344",
   "metadata": {},
   "outputs": [],
   "source": [
    "titanic_df.head()"
   ]
  },
  {
   "cell_type": "code",
   "execution_count": null,
   "id": "de1abb6c",
   "metadata": {},
   "outputs": [],
   "source": [
    "titanic_df.info()"
   ]
  },
  {
   "cell_type": "markdown",
   "id": "5dc48ca8",
   "metadata": {},
   "source": [
    "#### 2. Drop any unnecessary, unhelpful, or duplicated columns."
   ]
  },
  {
   "cell_type": "code",
   "execution_count": null,
   "id": "e2285c30",
   "metadata": {},
   "outputs": [],
   "source": [
    "titanic_df = titanic_df.drop_duplicates()\n",
    "titanic_df = titanic_df.drop(columns=['age','deck', 'embarked'])"
   ]
  },
  {
   "cell_type": "code",
   "execution_count": null,
   "id": "25ab2703",
   "metadata": {},
   "outputs": [],
   "source": [
    "titanic_df.info()"
   ]
  },
  {
   "cell_type": "code",
   "execution_count": null,
   "id": "7aaa6575",
   "metadata": {},
   "outputs": [],
   "source": [
    "titanic_df['embark_town'] = titanic_df['embark_town'].fillna(value='Southampton')"
   ]
  },
  {
   "cell_type": "code",
   "execution_count": null,
   "id": "93909b9b",
   "metadata": {},
   "outputs": [],
   "source": [
    "titanic_df.info()"
   ]
  },
  {
   "cell_type": "markdown",
   "id": "22945d29",
   "metadata": {},
   "source": [
    "#### 3. Encode the categorical columns. Create dummy variables of the categorical columns and concatenate them onto the dataframe."
   ]
  },
  {
   "cell_type": "code",
   "execution_count": null,
   "id": "9e1648c7",
   "metadata": {},
   "outputs": [],
   "source": [
    "dummy_df = pd.get_dummies(titanic_df[['sex','class','embark_town']],dummy_na=False, drop_first=[True,True,True])"
   ]
  },
  {
   "cell_type": "code",
   "execution_count": null,
   "id": "d539d0df",
   "metadata": {},
   "outputs": [],
   "source": [
    "dummy_df"
   ]
  },
  {
   "cell_type": "code",
   "execution_count": null,
   "id": "355bbb62",
   "metadata": {},
   "outputs": [],
   "source": [
    "titanic_df = pd.concat([titanic_df,dummy_df],axis=1)\n",
    "titanic_df.head()"
   ]
  },
  {
   "cell_type": "markdown",
   "id": "ff78bf0c",
   "metadata": {},
   "source": [
    "#### 4. Create a function named prep_titanic that accepts the raw titanic data, and returns the data with the transformations above applied."
   ]
  },
  {
   "cell_type": "code",
   "execution_count": null,
   "id": "42f18f4e",
   "metadata": {},
   "outputs": [],
   "source": [
    "def prep_titanic(df):\n",
    "    titanic_df = df.drop_duplicates()\n",
    "    titanic_df = titanic_df.drop(columns=['age','deck', 'embarked'])\n",
    "    titanic_df['embark_town'] = titanic_df['embark_town'].fillna(value='Southampton')\n",
    "    dummy_df = pd.get_dummies(titanic_df[['sex','class','embark_town']],dummy_na=False, drop_first=[True,True])\n",
    "    titanic_df = pd.concat([titanic_df,dummy_df],axis=1)\n",
    "    return titanic_df"
   ]
  },
  {
   "cell_type": "code",
   "execution_count": null,
   "id": "23e6976b",
   "metadata": {},
   "outputs": [],
   "source": [
    "titanic_df.head()"
   ]
  },
  {
   "cell_type": "code",
   "execution_count": null,
   "id": "7babfea5",
   "metadata": {},
   "outputs": [],
   "source": [
    "prep_titanic(titanic_df).head()"
   ]
  },
  {
   "cell_type": "markdown",
   "id": "4cb396ea",
   "metadata": {},
   "source": [
    "### Using the Telco dataset\n",
    "\n",
    "#### 1. Use the function defined in acquire.py to load the Telco data."
   ]
  },
  {
   "cell_type": "code",
   "execution_count": 2,
   "id": "6a5b1f1c",
   "metadata": {},
   "outputs": [],
   "source": [
    "telco_df = acquire.get_telco_data()"
   ]
  },
  {
   "cell_type": "code",
   "execution_count": 3,
   "id": "67eb53aa",
   "metadata": {},
   "outputs": [
    {
     "name": "stdout",
     "output_type": "stream",
     "text": [
      "<class 'pandas.core.frame.DataFrame'>\n",
      "Int64Index: 7043 entries, 0 to 7042\n",
      "Data columns (total 24 columns):\n",
      " #   Column                    Non-Null Count  Dtype  \n",
      "---  ------                    --------------  -----  \n",
      " 0   payment_type_id           7043 non-null   int64  \n",
      " 1   internet_service_type_id  7043 non-null   int64  \n",
      " 2   contract_type_id          7043 non-null   int64  \n",
      " 3   customer_id               7043 non-null   object \n",
      " 4   gender                    7043 non-null   object \n",
      " 5   senior_citizen            7043 non-null   int64  \n",
      " 6   partner                   7043 non-null   object \n",
      " 7   dependents                7043 non-null   object \n",
      " 8   tenure                    7043 non-null   int64  \n",
      " 9   phone_service             7043 non-null   object \n",
      " 10  multiple_lines            7043 non-null   object \n",
      " 11  online_security           7043 non-null   object \n",
      " 12  online_backup             7043 non-null   object \n",
      " 13  device_protection         7043 non-null   object \n",
      " 14  tech_support              7043 non-null   object \n",
      " 15  streaming_tv              7043 non-null   object \n",
      " 16  streaming_movies          7043 non-null   object \n",
      " 17  paperless_billing         7043 non-null   object \n",
      " 18  monthly_charges           7043 non-null   float64\n",
      " 19  total_charges             7043 non-null   object \n",
      " 20  churn                     7043 non-null   object \n",
      " 21  contract_type             7043 non-null   object \n",
      " 22  internet_service_type     7043 non-null   object \n",
      " 23  payment_type              7043 non-null   object \n",
      "dtypes: float64(1), int64(5), object(18)\n",
      "memory usage: 1.3+ MB\n"
     ]
    }
   ],
   "source": [
    "telco_df.info()"
   ]
  },
  {
   "cell_type": "markdown",
   "id": "2ff73eea",
   "metadata": {},
   "source": [
    "#### 2. Drop any unnecessary, unhelpful, or duplicated columns. This could mean dropping foreign key columns but keeping the corresponding string values, for example."
   ]
  },
  {
   "cell_type": "code",
   "execution_count": null,
   "id": "2ce948a5",
   "metadata": {},
   "outputs": [],
   "source": [
    "telco_df.head()"
   ]
  },
  {
   "cell_type": "code",
   "execution_count": null,
   "id": "446f0d9a",
   "metadata": {},
   "outputs": [],
   "source": [
    "telco_df = telco_df.drop(columns = ['payment_type_id','internet_service_type_id','contract_type_id','customer_id'])"
   ]
  },
  {
   "cell_type": "code",
   "execution_count": null,
   "id": "e917e0cc",
   "metadata": {},
   "outputs": [],
   "source": [
    "telco_df.info()"
   ]
  },
  {
   "cell_type": "markdown",
   "id": "b15fdf2b",
   "metadata": {},
   "source": [
    "#### 3. Encode the categorical columns. Create dummy variables of the categorical columns and concatenate them onto the dataframe."
   ]
  },
  {
   "cell_type": "code",
   "execution_count": null,
   "id": "416aec81",
   "metadata": {},
   "outputs": [],
   "source": [
    "dummy_df = pd.get_dummies(telco_df[['gender','partner','dependents','phone_service','multiple_lines','online_security','online_backup','device_protection','tech_support','streaming_tv','streaming_movies','paperless_billing','churn','contract_type','internet_service_type','payment_type']],dummy_na=False, drop_first=[True,True,True,True,True,True,True,True,True,True,True,True,True,True,True,True])"
   ]
  },
  {
   "cell_type": "code",
   "execution_count": null,
   "id": "0648b0ef",
   "metadata": {},
   "outputs": [],
   "source": [
    "telco_df = pd.concat([telco_df, dummy_df], axis=1)"
   ]
  },
  {
   "cell_type": "code",
   "execution_count": null,
   "id": "01c5eb86",
   "metadata": {},
   "outputs": [],
   "source": [
    "telco_df.head()"
   ]
  },
  {
   "cell_type": "markdown",
   "id": "3e219944",
   "metadata": {},
   "source": [
    "#### 4. Create a function named prep_telco that accepts the raw telco data, and returns the data with the transformations above applied."
   ]
  },
  {
   "cell_type": "code",
   "execution_count": 4,
   "id": "6ad5f7db",
   "metadata": {},
   "outputs": [],
   "source": [
    "def prep_telco(df):\n",
    "        telco_df = df.drop(columns = ['payment_type_id','internet_service_type_id','contract_type_id','customer_id'])\n",
    "        dummy_df = pd.get_dummies(telco_df[['gender','partner','dependents','phone_service','multiple_lines','online_security','online_backup','device_protection','tech_support','streaming_tv','streaming_movies','paperless_billing','churn','contract_type','internet_service_type','payment_type']],dummy_na=False, drop_first=[True,True,True,True,True,True,True,True,True,True,True,True,True,True,True,True])\n",
    "        telco_df = pd.concat([telco_df, dummy_df], axis=1)\n",
    "        return telco_df"
   ]
  },
  {
   "cell_type": "code",
   "execution_count": 7,
   "id": "a9abbfea",
   "metadata": {},
   "outputs": [
    {
     "data": {
      "text/html": [
       "<div>\n",
       "<style scoped>\n",
       "    .dataframe tbody tr th:only-of-type {\n",
       "        vertical-align: middle;\n",
       "    }\n",
       "\n",
       "    .dataframe tbody tr th {\n",
       "        vertical-align: top;\n",
       "    }\n",
       "\n",
       "    .dataframe thead th {\n",
       "        text-align: right;\n",
       "    }\n",
       "</style>\n",
       "<table border=\"1\" class=\"dataframe\">\n",
       "  <thead>\n",
       "    <tr style=\"text-align: right;\">\n",
       "      <th></th>\n",
       "      <th>gender</th>\n",
       "      <th>senior_citizen</th>\n",
       "      <th>partner</th>\n",
       "      <th>dependents</th>\n",
       "      <th>tenure</th>\n",
       "      <th>phone_service</th>\n",
       "      <th>multiple_lines</th>\n",
       "      <th>online_security</th>\n",
       "      <th>online_backup</th>\n",
       "      <th>device_protection</th>\n",
       "      <th>...</th>\n",
       "      <th>streaming_movies_Yes</th>\n",
       "      <th>paperless_billing_Yes</th>\n",
       "      <th>churn_Yes</th>\n",
       "      <th>contract_type_One year</th>\n",
       "      <th>contract_type_Two year</th>\n",
       "      <th>internet_service_type_Fiber optic</th>\n",
       "      <th>internet_service_type_None</th>\n",
       "      <th>payment_type_Credit card (automatic)</th>\n",
       "      <th>payment_type_Electronic check</th>\n",
       "      <th>payment_type_Mailed check</th>\n",
       "    </tr>\n",
       "  </thead>\n",
       "  <tbody>\n",
       "    <tr>\n",
       "      <th>0</th>\n",
       "      <td>Female</td>\n",
       "      <td>0</td>\n",
       "      <td>Yes</td>\n",
       "      <td>Yes</td>\n",
       "      <td>65</td>\n",
       "      <td>Yes</td>\n",
       "      <td>Yes</td>\n",
       "      <td>Yes</td>\n",
       "      <td>Yes</td>\n",
       "      <td>Yes</td>\n",
       "      <td>...</td>\n",
       "      <td>1</td>\n",
       "      <td>1</td>\n",
       "      <td>0</td>\n",
       "      <td>0</td>\n",
       "      <td>1</td>\n",
       "      <td>0</td>\n",
       "      <td>0</td>\n",
       "      <td>0</td>\n",
       "      <td>0</td>\n",
       "      <td>1</td>\n",
       "    </tr>\n",
       "    <tr>\n",
       "      <th>1</th>\n",
       "      <td>Male</td>\n",
       "      <td>0</td>\n",
       "      <td>No</td>\n",
       "      <td>No</td>\n",
       "      <td>54</td>\n",
       "      <td>No</td>\n",
       "      <td>No phone service</td>\n",
       "      <td>Yes</td>\n",
       "      <td>No</td>\n",
       "      <td>No</td>\n",
       "      <td>...</td>\n",
       "      <td>0</td>\n",
       "      <td>0</td>\n",
       "      <td>0</td>\n",
       "      <td>0</td>\n",
       "      <td>1</td>\n",
       "      <td>0</td>\n",
       "      <td>0</td>\n",
       "      <td>1</td>\n",
       "      <td>0</td>\n",
       "      <td>0</td>\n",
       "    </tr>\n",
       "    <tr>\n",
       "      <th>2</th>\n",
       "      <td>Female</td>\n",
       "      <td>0</td>\n",
       "      <td>No</td>\n",
       "      <td>No</td>\n",
       "      <td>56</td>\n",
       "      <td>No</td>\n",
       "      <td>No phone service</td>\n",
       "      <td>Yes</td>\n",
       "      <td>Yes</td>\n",
       "      <td>Yes</td>\n",
       "      <td>...</td>\n",
       "      <td>0</td>\n",
       "      <td>0</td>\n",
       "      <td>0</td>\n",
       "      <td>0</td>\n",
       "      <td>1</td>\n",
       "      <td>0</td>\n",
       "      <td>0</td>\n",
       "      <td>0</td>\n",
       "      <td>0</td>\n",
       "      <td>0</td>\n",
       "    </tr>\n",
       "    <tr>\n",
       "      <th>3</th>\n",
       "      <td>Male</td>\n",
       "      <td>0</td>\n",
       "      <td>Yes</td>\n",
       "      <td>Yes</td>\n",
       "      <td>20</td>\n",
       "      <td>No</td>\n",
       "      <td>No phone service</td>\n",
       "      <td>Yes</td>\n",
       "      <td>No</td>\n",
       "      <td>Yes</td>\n",
       "      <td>...</td>\n",
       "      <td>0</td>\n",
       "      <td>1</td>\n",
       "      <td>0</td>\n",
       "      <td>0</td>\n",
       "      <td>1</td>\n",
       "      <td>0</td>\n",
       "      <td>0</td>\n",
       "      <td>1</td>\n",
       "      <td>0</td>\n",
       "      <td>0</td>\n",
       "    </tr>\n",
       "    <tr>\n",
       "      <th>4</th>\n",
       "      <td>Male</td>\n",
       "      <td>0</td>\n",
       "      <td>Yes</td>\n",
       "      <td>No</td>\n",
       "      <td>72</td>\n",
       "      <td>Yes</td>\n",
       "      <td>Yes</td>\n",
       "      <td>No</td>\n",
       "      <td>Yes</td>\n",
       "      <td>Yes</td>\n",
       "      <td>...</td>\n",
       "      <td>1</td>\n",
       "      <td>1</td>\n",
       "      <td>0</td>\n",
       "      <td>0</td>\n",
       "      <td>1</td>\n",
       "      <td>0</td>\n",
       "      <td>0</td>\n",
       "      <td>0</td>\n",
       "      <td>0</td>\n",
       "      <td>0</td>\n",
       "    </tr>\n",
       "  </tbody>\n",
       "</table>\n",
       "<p>5 rows × 47 columns</p>\n",
       "</div>"
      ],
      "text/plain": [
       "   gender  senior_citizen partner dependents  tenure phone_service  \\\n",
       "0  Female               0     Yes        Yes      65           Yes   \n",
       "1    Male               0      No         No      54            No   \n",
       "2  Female               0      No         No      56            No   \n",
       "3    Male               0     Yes        Yes      20            No   \n",
       "4    Male               0     Yes         No      72           Yes   \n",
       "\n",
       "     multiple_lines online_security online_backup device_protection  ...  \\\n",
       "0               Yes             Yes           Yes               Yes  ...   \n",
       "1  No phone service             Yes            No                No  ...   \n",
       "2  No phone service             Yes           Yes               Yes  ...   \n",
       "3  No phone service             Yes            No               Yes  ...   \n",
       "4               Yes              No           Yes               Yes  ...   \n",
       "\n",
       "  streaming_movies_Yes paperless_billing_Yes churn_Yes contract_type_One year  \\\n",
       "0                    1                     1         0                      0   \n",
       "1                    0                     0         0                      0   \n",
       "2                    0                     0         0                      0   \n",
       "3                    0                     1         0                      0   \n",
       "4                    1                     1         0                      0   \n",
       "\n",
       "   contract_type_Two year internet_service_type_Fiber optic  \\\n",
       "0                       1                                 0   \n",
       "1                       1                                 0   \n",
       "2                       1                                 0   \n",
       "3                       1                                 0   \n",
       "4                       1                                 0   \n",
       "\n",
       "  internet_service_type_None payment_type_Credit card (automatic)  \\\n",
       "0                          0                                    0   \n",
       "1                          0                                    1   \n",
       "2                          0                                    0   \n",
       "3                          0                                    1   \n",
       "4                          0                                    0   \n",
       "\n",
       "  payment_type_Electronic check payment_type_Mailed check  \n",
       "0                             0                         1  \n",
       "1                             0                         0  \n",
       "2                             0                         0  \n",
       "3                             0                         0  \n",
       "4                             0                         0  \n",
       "\n",
       "[5 rows x 47 columns]"
      ]
     },
     "execution_count": 7,
     "metadata": {},
     "output_type": "execute_result"
    }
   ],
   "source": [
    "prep_telco(telco_df).head()"
   ]
  },
  {
   "cell_type": "code",
   "execution_count": null,
   "id": "60c1afb4",
   "metadata": {},
   "outputs": [],
   "source": []
  }
 ],
 "metadata": {
  "kernelspec": {
   "display_name": "Python 3 (ipykernel)",
   "language": "python",
   "name": "python3"
  },
  "language_info": {
   "codemirror_mode": {
    "name": "ipython",
    "version": 3
   },
   "file_extension": ".py",
   "mimetype": "text/x-python",
   "name": "python",
   "nbconvert_exporter": "python",
   "pygments_lexer": "ipython3",
   "version": "3.8.8"
  }
 },
 "nbformat": 4,
 "nbformat_minor": 5
}
