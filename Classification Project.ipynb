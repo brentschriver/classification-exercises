{
 "cells": [
  {
   "cell_type": "code",
   "execution_count": 1,
   "id": "b27257d2",
   "metadata": {},
   "outputs": [],
   "source": [
    "# import everything I need and everything I don't need\n",
    "\n",
    "import env\n",
    "import pandas as pd\n",
    "import pydataset as data\n",
    "import numpy as np\n",
    "import matplotlib.pyplot as plt\n",
    "from scipy import stats\n",
    "import seaborn as sns\n",
    "\n",
    "# import splitting and imputing functions\n",
    "from sklearn.model_selection import train_test_split\n",
    "from sklearn.impute import SimpleImputer\n",
    "\n",
    "# turn off pink boxes for demo\n",
    "import warnings\n",
    "warnings.filterwarnings(\"ignore\")\n",
    "\n",
    "# import our own acquire module\n",
    "import acquire\n",
    "import wrangle"
   ]
  },
  {
   "cell_type": "markdown",
   "id": "fcfce158",
   "metadata": {},
   "source": [
    "## Big Question:\n",
    "### Why are Telco customers churning?\n",
    "### * Find drivers of churn"
   ]
  },
  {
   "cell_type": "code",
   "execution_count": 2,
   "id": "80645944",
   "metadata": {},
   "outputs": [],
   "source": [
    "# Obtain Telco dataset.\n",
    "\n",
    "telco_df_untouched = acquire.get_telco_data()"
   ]
  },
  {
   "cell_type": "markdown",
   "id": "dce878a9",
   "metadata": {},
   "source": [
    "### Wrangling Process\n",
    "\n",
    "After acquiring the Telco dataset, I used a created function called 'prep_telco' to prepare the data for Exploratory Analysis. Steps used to prepare data:\n",
    "\n",
    "    * Encode the categorical variables\n",
    "    * Drop unneccesary columns\n",
    "    * Convert string numbers into integers/floats\n",
    "    * Split dataset into train, validate, and test"
   ]
  },
  {
   "cell_type": "code",
   "execution_count": 8,
   "id": "9c76fb1a",
   "metadata": {},
   "outputs": [],
   "source": [
    "# Call Telco prep function to separate dataset into train, validate, and test\n",
    "\n",
    "train, validate, test = wrangle.prep_telco(telco_df_untouched)"
   ]
  },
  {
   "cell_type": "code",
   "execution_count": 11,
   "id": "6c39030d",
   "metadata": {},
   "outputs": [
    {
     "name": "stdout",
     "output_type": "stream",
     "text": [
      "<class 'pandas.core.frame.DataFrame'>\n",
      "Int64Index: 4500 entries, 3968 to 4011\n",
      "Data columns (total 69 columns):\n",
      " #   Column                                  Non-Null Count  Dtype  \n",
      "---  ------                                  --------------  -----  \n",
      " 0   gender                                  4500 non-null   object \n",
      " 1   senior_citizen                          4500 non-null   int64  \n",
      " 2   partner                                 4500 non-null   object \n",
      " 3   dependents                              4500 non-null   object \n",
      " 4   tenure                                  4500 non-null   int64  \n",
      " 5   phone_service                           4500 non-null   object \n",
      " 6   multiple_lines                          4500 non-null   object \n",
      " 7   online_security                         4500 non-null   object \n",
      " 8   online_backup                           4500 non-null   object \n",
      " 9   device_protection                       4500 non-null   object \n",
      " 10  tech_support                            4500 non-null   object \n",
      " 11  streaming_tv                            4500 non-null   object \n",
      " 12  streaming_movies                        4500 non-null   object \n",
      " 13  paperless_billing                       4500 non-null   object \n",
      " 14  monthly_charges                         4500 non-null   float64\n",
      " 15  total_charges                           4500 non-null   float64\n",
      " 16  churn                                   4500 non-null   object \n",
      " 17  contract_type                           4500 non-null   object \n",
      " 18  internet_service_type                   4500 non-null   object \n",
      " 19  payment_type                            4500 non-null   object \n",
      " 20  gender_encoded                          4500 non-null   int64  \n",
      " 21  partner_encoded                         4500 non-null   int64  \n",
      " 22  dependents_encoded                      4500 non-null   int64  \n",
      " 23  phone_service_encoded                   4500 non-null   int64  \n",
      " 24  paperless_billing_encoded               4500 non-null   int64  \n",
      " 25  churn_encoded                           4500 non-null   int64  \n",
      " 26  gender_Female                           4500 non-null   uint8  \n",
      " 27  gender_Male                             4500 non-null   uint8  \n",
      " 28  partner_No                              4500 non-null   uint8  \n",
      " 29  partner_Yes                             4500 non-null   uint8  \n",
      " 30  dependents_No                           4500 non-null   uint8  \n",
      " 31  dependents_Yes                          4500 non-null   uint8  \n",
      " 32  phone_service_No                        4500 non-null   uint8  \n",
      " 33  phone_service_Yes                       4500 non-null   uint8  \n",
      " 34  multiple_lines_No                       4500 non-null   uint8  \n",
      " 35  multiple_lines_No phone service         4500 non-null   uint8  \n",
      " 36  multiple_lines_Yes                      4500 non-null   uint8  \n",
      " 37  online_security_No                      4500 non-null   uint8  \n",
      " 38  online_security_No internet service     4500 non-null   uint8  \n",
      " 39  online_security_Yes                     4500 non-null   uint8  \n",
      " 40  online_backup_No                        4500 non-null   uint8  \n",
      " 41  online_backup_No internet service       4500 non-null   uint8  \n",
      " 42  online_backup_Yes                       4500 non-null   uint8  \n",
      " 43  device_protection_No                    4500 non-null   uint8  \n",
      " 44  device_protection_No internet service   4500 non-null   uint8  \n",
      " 45  device_protection_Yes                   4500 non-null   uint8  \n",
      " 46  tech_support_No                         4500 non-null   uint8  \n",
      " 47  tech_support_No internet service        4500 non-null   uint8  \n",
      " 48  tech_support_Yes                        4500 non-null   uint8  \n",
      " 49  streaming_tv_No                         4500 non-null   uint8  \n",
      " 50  streaming_tv_No internet service        4500 non-null   uint8  \n",
      " 51  streaming_tv_Yes                        4500 non-null   uint8  \n",
      " 52  streaming_movies_No                     4500 non-null   uint8  \n",
      " 53  streaming_movies_No internet service    4500 non-null   uint8  \n",
      " 54  streaming_movies_Yes                    4500 non-null   uint8  \n",
      " 55  paperless_billing_No                    4500 non-null   uint8  \n",
      " 56  paperless_billing_Yes                   4500 non-null   uint8  \n",
      " 57  churn_No                                4500 non-null   uint8  \n",
      " 58  churn_Yes                               4500 non-null   uint8  \n",
      " 59  contract_type_Month-to-month            4500 non-null   uint8  \n",
      " 60  contract_type_One year                  4500 non-null   uint8  \n",
      " 61  contract_type_Two year                  4500 non-null   uint8  \n",
      " 62  internet_service_type_DSL               4500 non-null   uint8  \n",
      " 63  internet_service_type_Fiber optic       4500 non-null   uint8  \n",
      " 64  internet_service_type_None              4500 non-null   uint8  \n",
      " 65  payment_type_Bank transfer (automatic)  4500 non-null   uint8  \n",
      " 66  payment_type_Credit card (automatic)    4500 non-null   uint8  \n",
      " 67  payment_type_Electronic check           4500 non-null   uint8  \n",
      " 68  payment_type_Mailed check               4500 non-null   uint8  \n",
      "dtypes: float64(2), int64(8), object(16), uint8(43)\n",
      "memory usage: 1.1+ MB\n",
      "None\n"
     ]
    }
   ],
   "source": [
    "print(train.info())"
   ]
  },
  {
   "cell_type": "markdown",
   "id": "14d13d1c",
   "metadata": {},
   "source": [
    "### Explore Univariate Data"
   ]
  },
  {
   "cell_type": "code",
   "execution_count": 7,
   "id": "2e3f80e5",
   "metadata": {},
   "outputs": [
    {
     "data": {
      "image/png": "[encoded data removed]",
      "text/plain": [
       "<Figure size 432x288 with 1 Axes>"
      ]
     },
     "metadata": {
      "needs_background": "light"
     },
     "output_type": "display_data"
    }
   ],
   "source": [
    "plt.title(\"Most Customers Did Not Churn\")\n",
    "train.churn.hist()\n",
    "plt.show()"
   ]
  },
  {
   "cell_type": "code",
   "execution_count": 13,
   "id": "cff5bbfb",
   "metadata": {},
   "outputs": [
    {
     "name": "stdout",
     "output_type": "stream",
     "text": [
      "Percent churned from train\n"
     ]
    },
    {
     "data": {
      "text/plain": [
       "0.266"
      ]
     },
     "execution_count": 13,
     "metadata": {},
     "output_type": "execute_result"
    }
   ],
   "source": [
    "print(\"Percent churned from train\")\n",
    "round(train.churn_encoded.mean(), 3)"
   ]
  },
  {
   "cell_type": "code",
   "execution_count": 14,
   "id": "73623ee5",
   "metadata": {},
   "outputs": [
    {
     "data": {
      "image/png": "[encoded data removed]",
      "text/plain": [
       "<Figure size 432x288 with 1 Axes>"
      ]
     },
     "metadata": {
      "needs_background": "light"
     },
     "output_type": "display_data"
    }
   ],
   "source": [
    "plt.title(\"Too Many Month-to-Month Customers\")\n",
    "train.contract_type.hist()\n",
    "plt.show()"
   ]
  },
  {
   "cell_type": "markdown",
   "id": "75e45e38",
   "metadata": {},
   "source": [
    "## Takeaways & Actions\n",
    "\n",
    "### * ~75% did not churn and ~25% churned. Predicting \"not churned\" will be the baseline prediction to test the usefulness of features later.\n",
    "\n",
    "### * There are many more month-to-month type contraacts than any other."
   ]
  },
  {
   "cell_type": "markdown",
   "id": "33d454b8",
   "metadata": {},
   "source": [
    "# Exploratory Analysis (Bivariate)"
   ]
  },
  {
   "cell_type": "markdown",
   "id": "fb58953a",
   "metadata": {},
   "source": [
    "### Is there a relationship between gender and churn?"
   ]
  },
  {
   "cell_type": "code",
   "execution_count": 16,
   "id": "93aca3bc",
   "metadata": {},
   "outputs": [
    {
     "data": {
      "image/png": "[encoded data removed]",
      "text/plain": [
       "<Figure size 432x288 with 1 Axes>"
      ]
     },
     "metadata": {
      "needs_background": "light"
     },
     "output_type": "display_data"
    },
    {
     "name": "stdout",
     "output_type": "stream",
     "text": [
      "Fail to reject the null\n",
      "Insufficient evidence to reject the null\n"
     ]
    }
   ],
   "source": [
    "plt.title(\"Gender Doesn't Affect Churn\")\n",
    "sns.barplot(x=\"gender_encoded\", y=\"churn_encoded\", data=train)\n",
    "population_churn_rate = train.churn_encoded.mean()\n",
    "plt.axhline(population_churn_rate, label=\"Population Churn Rate\")\n",
    "plt.legend()\n",
    "plt.show()\n",
    "\n",
    "alpha = 0.05\n",
    "\n",
    "null_hypothesis = \"Gender and churning are independent.\"\n",
    "alternative_hypothesis = \"There is a relationship between gender and churning.\"\n",
    "\n",
    "# Setup a crosstab of observed survival to pclass\n",
    "observed = pd.crosstab(train.gender_encoded, train.churn_encoded)\n",
    "\n",
    "chi2, p, degf, expected = stats.chi2_contingency(observed)\n",
    "\n",
    "if p < alpha:\n",
    "    print(\"Reject the null hypothesis that\", null_hypothesis)\n",
    "    print(\"Sufficient evidence to move forward understanding that\", alternative_hypothesis)\n",
    "else:\n",
    "    print(\"Fail to reject the null\")\n",
    "    print(\"Insufficient evidence to reject the null\")"
   ]
  },
  {
   "cell_type": "markdown",
   "id": "1c4fabab",
   "metadata": {},
   "source": [
    "## Is there a relationship between being single and churning?"
   ]
  },
  {
   "cell_type": "code",
   "execution_count": 18,
   "id": "9b81a077",
   "metadata": {},
   "outputs": [
    {
     "data": {
      "image/png": "[encoded data removed]",
      "text/plain": [
       "<Figure size 432x288 with 1 Axes>"
      ]
     },
     "metadata": {
      "needs_background": "light"
     },
     "output_type": "display_data"
    },
    {
     "name": "stdout",
     "output_type": "stream",
     "text": [
      "Reject the null hypothesis that Being single and churning are independent.\n",
      "Sufficient evidence to move forward understanding that There is a relationship between being single and churning.\n"
     ]
    }
   ],
   "source": [
    "plt.title(\"Single People Churn\")\n",
    "sns.barplot(x=\"partner_encoded\", y=\"churn_encoded\", data=train)\n",
    "population_churn_rate = train.churn_encoded.mean()\n",
    "plt.axhline(population_churn_rate, label=\"Population Churn Rate\")\n",
    "plt.legend()\n",
    "plt.show()\n",
    "\n",
    "\n",
    "alpha = 0.05\n",
    "\n",
    "null_hypothesis = \"Being single and churning are independent.\"\n",
    "alternative_hypothesis = \"There is a relationship between being single and churning.\"\n",
    "\n",
    "# Setup a crosstab of observed survival to pclass\n",
    "observed = pd.crosstab(train.partner_encoded, train.churn_encoded)\n",
    "\n",
    "chi2, p, degf, expected = stats.chi2_contingency(observed)\n",
    "\n",
    "if p < alpha:\n",
    "    print(\"Reject the null hypothesis that\", null_hypothesis)\n",
    "    print(\"Sufficient evidence to move forward understanding that\", alternative_hypothesis)\n",
    "else:\n",
    "    print(\"Fail to reject the null\")\n",
    "    print(\"Insufficient evidence to reject the null\")"
   ]
  },
  {
   "cell_type": "markdown",
   "id": "94c8d6ae",
   "metadata": {},
   "source": [
    "## Is there a relationship between month-to-month contract and churn?"
   ]
  },
  {
   "cell_type": "code",
   "execution_count": 19,
   "id": "088a3528",
   "metadata": {},
   "outputs": [
    {
     "data": {
      "image/png": "[encoded data removed]",
      "text/plain": [
       "<Figure size 432x288 with 1 Axes>"
      ]
     },
     "metadata": {
      "needs_background": "light"
     },
     "output_type": "display_data"
    },
    {
     "name": "stdout",
     "output_type": "stream",
     "text": [
      "Reject the null hypothesis that Month-to-month contracts and churning are independent.\n",
      "Sufficient evidence to move forward understanding that There is a relationship between month-to-month contracts and churning.\n"
     ]
    }
   ],
   "source": [
    "plt.title(\"Phone Service Doesn't Affect Churn\")\n",
    "sns.barplot(x=\"contract_type_Month-to-month\", y=\"churn_encoded\", data=train)\n",
    "population_churn_rate = train.churn_encoded.mean()\n",
    "plt.axhline(population_churn_rate, label=\"Population Churn Rate\")\n",
    "plt.legend()\n",
    "plt.show()\n",
    "\n",
    "alpha = 0.05\n",
    "\n",
    "null_hypothesis = \"Month-to-month contracts and churning are independent.\"\n",
    "alternative_hypothesis = \"There is a relationship between month-to-month contracts and churning.\"\n",
    "\n",
    "# Setup a crosstab of observed survival to pclass\n",
    "observed = pd.crosstab(train.partner_encoded, train.churn_encoded)\n",
    "\n",
    "chi2, p, degf, expected = stats.chi2_contingency(observed)\n",
    "\n",
    "if p < alpha:\n",
    "    print(\"Reject the null hypothesis that\", null_hypothesis)\n",
    "    print(\"Sufficient evidence to move forward understanding that\", alternative_hypothesis)\n",
    "else:\n",
    "    print(\"Fail to reject the null\")\n",
    "    print(\"Insufficient evidence to reject the null\")"
   ]
  },
  {
   "cell_type": "markdown",
   "id": "acc6a87b",
   "metadata": {},
   "source": [
    "## Takeaways and Actions\n",
    "* There seems to be no relationship between gender and churning.\n",
    "* Couples tend to renew contracts.\n",
    "* Month-to-month customers are more likely to churn."
   ]
  },
  {
   "cell_type": "code",
   "execution_count": null,
   "id": "616cfd71",
   "metadata": {},
   "outputs": [],
   "source": []
  }
 ],
 "metadata": {
  "kernelspec": {
   "display_name": "Python 3 (ipykernel)",
   "language": "python",
   "name": "python3"
  },
  "language_info": {
   "codemirror_mode": {
    "name": "ipython",
    "version": 3
   },
   "file_extension": ".py",
   "mimetype": "text/x-python",
   "name": "python",
   "nbconvert_exporter": "python",
   "pygments_lexer": "ipython3",
   "version": "3.8.8"
  }
 },
 "nbformat": 4,
 "nbformat_minor": 5
}
